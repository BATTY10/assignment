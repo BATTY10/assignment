{
 "cells": [
  {
   "cell_type": "markdown",
   "id": "80ba47d3",
   "metadata": {},
   "source": [
    "# Assignment on if condition's:"
   ]
  },
  {
   "cell_type": "markdown",
   "id": "fcebba52",
   "metadata": {},
   "source": [
    "Question\tA school has following rules for grading system:\n",
    "a. Below 25 - F\n",
    "b. 25 to 45 - E\n",
    "c. 45 to 50 - D\n",
    "d. 50 to 60 - C\n",
    "e. 60 to 80 - B\n",
    "f. Above 80 - A\n",
    "Ask user to enter marks and print the corresponding grade\n"
   ]
  },
  {
   "cell_type": "code",
   "execution_count": 3,
   "id": "7204f4d0",
   "metadata": {},
   "outputs": [
    {
     "name": "stdout",
     "output_type": "stream",
     "text": [
      "Enter your mark:45\n",
      "Your grade is E\n"
     ]
    }
   ],
   "source": [
    "#solution:\n",
    "\n",
    "mark = int(input(\"Enter your mark:\"))\n",
    "\n",
    "if (mark>80):\n",
    "    print(\"Your grade is A\")\n",
    "elif (mark>60 and mark<=80): \n",
    "    print(\"Your grade is B\")\n",
    "elif (mark>50 and mark<=60):\n",
    "    print(\"Your grade is C\")\n",
    "elif (mark>45 and mark<=50):\n",
    "    print(\"Your grade is D\")\n",
    "elif (mark>25 and mark<=45):\n",
    "    print(\"Your grade is E\")\n",
    "else:\n",
    "    print(\"Your grade is F\")\n"
   ]
  },
  {
   "cell_type": "markdown",
   "id": "b877e4fd",
   "metadata": {},
   "source": [
    "Question:\tA shop will give discount of 10% if the cost of purchased quantity is more than 1000.\n",
    "Ask user for quantity\n",
    "Suppose, one unit will cost 100.\n",
    "Judge and print total cost for user.\n"
   ]
  },
  {
   "cell_type": "code",
   "execution_count": null,
   "id": "d5949dbf",
   "metadata": {},
   "outputs": [],
   "source": [
    "#solution\n",
    "\n",
    "quantity= int(input(\"Enter your ordering quantity:\"))\n",
    "unit_cost=100\n",
    "total_cost=quantity*unit_cost\n",
    "if (total_cost>1000):\n",
    "    print(\"Total cost is :\",total_cost-(10/100*total_cost),\"Discont of 10% applied\")\n",
    "else:\n",
    "    print(\"Total cost is :\",total_cost)"
   ]
  },
  {
   "cell_type": "markdown",
   "id": "de5ab41b",
   "metadata": {},
   "source": [
    "Question: Write a program to print absolute value of a number entered by user. E.g.-\n",
    "INPUT: 1        OUTPUT: 1\n",
    "INPUT: -1        OUTPUT: 1\n"
   ]
  },
  {
   "cell_type": "code",
   "execution_count": null,
   "id": "9d03796c",
   "metadata": {},
   "outputs": [],
   "source": [
    "#solution:\n",
    "\n",
    "INPUT=abs(1)\n",
    "print(\"OUTPUT:\",INPUT)\n",
    "\n",
    "\n",
    "INPUT=abs(-1)\n",
    "print(\"OUTPUT:\",INPUT)"
   ]
  },
  {
   "cell_type": "markdown",
   "id": "be1f924f",
   "metadata": {},
   "source": [
    "Question: Write a Python program that accepts a string and calculate the number of digits and letters.\n",
    "Sample Data : Python 3.2\n",
    "Expected Output :\n",
    "Letters 6\n",
    "Digits 2\n"
   ]
  },
  {
   "cell_type": "code",
   "execution_count": null,
   "id": "24a3166f",
   "metadata": {},
   "outputs": [],
   "source": [
    "#solution:\n",
    "sample_data= input(\"Input a string\")\n",
    "d=l=0\n",
    "for c in sample_data:\n",
    "    if c.isdigit():\n",
    "        d=d+1\n",
    "    elif c.isalpha():\n",
    "        l=l+1\n",
    "    else:\n",
    "        pass\n",
    "print(\"Letters\", l)\n",
    "print(\"Digits\", d)"
   ]
  },
  {
   "cell_type": "markdown",
   "id": "49bc7a2b",
   "metadata": {},
   "source": [
    "question:Write a Python program to check whether an alphabet is a vowel or consonant. \n",
    "Expected Output:\n",
    "Input a letter of the alphabet: k                                       \n",
    "k is a consonant.\n"
   ]
  },
  {
   "cell_type": "code",
   "execution_count": null,
   "id": "fa524876",
   "metadata": {},
   "outputs": [],
   "source": [
    "#solution:\n",
    "l = input(\"Input a letter of the alphabet: \")\n",
    "\n",
    "if l in ('a', 'e', 'i', 'o', 'u'):\n",
    "\tprint(\"The alphabet is a vowel:\" , l)\n",
    "\n",
    "else:\n",
    "\tprint(\"The alphabet is a consonant:\" , l)"
   ]
  },
  {
   "cell_type": "markdown",
   "id": "31930e4e",
   "metadata": {},
   "source": [
    "question: Write a Python program to check a triangle is equilateral, isosceles or scalene. Go to the editor\n",
    "Note :\n",
    "An equilateral triangle is a triangle in which all three sides are equal.\n",
    "A scalene triangle is a triangle that has three unequal sides.\n",
    "An isosceles triangle is a triangle with (at least) two equal sides.\n",
    "Expected Output:\n",
    "Input lengths of the triangle sides:                                    \n",
    "x: 6                                                                    \n",
    "y: 8                                                                    \n",
    "z: 12                                                                   \n",
    "Scalene triangle \n"
   ]
  },
  {
   "cell_type": "code",
   "execution_count": null,
   "id": "2c66fe1b",
   "metadata": {},
   "outputs": [],
   "source": [
    "#solution:\n",
    "\n",
    "print(\"Input lengths of the triangle sides: \")\n",
    "x = int(input(\"x: \"))\n",
    "y = int(input(\"y: \"))\n",
    "z = int(input(\"z: \"))\n",
    "\n",
    "if x == y == z:\n",
    "\tprint(\"Equilateral triangle\")\n",
    "elif x==y or y==z or z==x:\n",
    "\tprint(\"isosceles triangle\")\n",
    "else:\n",
    "\tprint(\"Scalene triangle\")\n"
   ]
  },
  {
   "cell_type": "markdown",
   "id": "a04d3799",
   "metadata": {},
   "source": [
    "Question:Write an If elif else condition for finding the largest number in 3 numbers."
   ]
  },
  {
   "cell_type": "code",
   "execution_count": null,
   "id": "9cafc8ab",
   "metadata": {},
   "outputs": [],
   "source": [
    "num1 = 10\n",
    "num2 = 50\n",
    "num3 = 30\n",
    "\n",
    "if (num1 >= num2) and (num1 >= num3):\n",
    "    print(\"The largest number is\",num1)   \n",
    "elif (num2 >= num1) and (num2 >= num3):\n",
    "    print(\"The largest number is\",num2)  \n",
    "else:\n",
    "   print(\"The largest number is\",num3)"
   ]
  },
  {
   "cell_type": "markdown",
   "id": "3103c7a6",
   "metadata": {},
   "source": [
    "# Assignment on Loops(while,for & instead)"
   ]
  },
  {
   "cell_type": "markdown",
   "id": "0b1cae74",
   "metadata": {},
   "source": [
    "Question\tUsing while loop accept numbers until the sum of number is less than 100."
   ]
  },
  {
   "cell_type": "code",
   "execution_count": null,
   "id": "660e9443",
   "metadata": {},
   "outputs": [],
   "source": [
    "#solution:\n",
    "\n",
    "a = 1; \n",
    "sum = 0; \n",
    " \n",
    "while(a < 100): \n",
    "  sum = sum + a; \n",
    "  a = a + 1;\n",
    "print(sum)"
   ]
  },
  {
   "cell_type": "markdown",
   "id": "67e7e78d",
   "metadata": {},
   "source": [
    "question \tTake 10 integers from keyboard using loop and print their average value on the screen."
   ]
  },
  {
   "cell_type": "code",
   "execution_count": null,
   "id": "4f8a3331",
   "metadata": {},
   "outputs": [],
   "source": [
    "s = 0\n",
    "count = 0\n",
    "\n",
    "while True:\n",
    "    num = int(input('Write a number: '))\n",
    "    if num == 0:\n",
    "        break\n",
    "    s += num\n",
    "    count += 1\n",
    "    print(\"Average so far:\",(s/count))"
   ]
  },
  {
   "cell_type": "markdown",
   "id": "5604b560",
   "metadata": {},
   "source": [
    "Question\tPrint the following patterns using loop :\n",
    "a.\n",
    "*\n",
    "**\n",
    "***\n",
    "****\n",
    "b.\n",
    "   *  \n",
    " *** \n",
    "*****\n",
    " *** \n",
    "   *  \n",
    "c.\n",
    "1010101\n",
    " 10101 \n",
    "  101  \n",
    "   1   \n"
   ]
  },
  {
   "cell_type": "code",
   "execution_count": null,
   "id": "47e48c12",
   "metadata": {},
   "outputs": [],
   "source": [
    "#4a\n",
    "\n",
    "rows = 4\n",
    "for i in range(0, rows):\n",
    "    for j in range(0, i + 1):\n",
    "        print(\"*\", end=' ')\n",
    "    print(\"\\r\")\n"
   ]
  },
  {
   "cell_type": "code",
   "execution_count": null,
   "id": "56ee4e68",
   "metadata": {},
   "outputs": [],
   "source": [
    "#4b\n",
    "\n",
    "\n",
    "rows = 2\n",
    "k = 2 * rows - 2\n",
    "for i in range(0, rows):\n",
    "    for j in range(0, k):\n",
    "        print(end=\" \")\n",
    "    k = k - 1\n",
    "    for j in range(0, i + 1):\n",
    "        print(\"* \", end=\"\")\n",
    "    print(\"\")\n",
    "    \n",
    "k = rows - 2\n",
    "\n",
    "for i in range(rows, -1, -1):\n",
    "    for j in range(k, 0, -1):\n",
    "        print(end=\" \")\n",
    "    k = k + 1\n",
    "    for j in range(0, i + 1):\n",
    "        print(\"* \", end=\"\")\n",
    "    print(\"\")"
   ]
  },
  {
   "cell_type": "code",
   "execution_count": null,
   "id": "a768889d",
   "metadata": {},
   "outputs": [],
   "source": [
    "#4c\n",
    "rows = 7\n",
    "b = 0\n",
    "for i in range(rows, 0, -2):\n",
    "    b +=1\n",
    "    for j in range(1, i + 1):\n",
    "        print(b, end=' ')\n",
    "    print('\\r')"
   ]
  },
  {
   "cell_type": "markdown",
   "id": "577b245e",
   "metadata": {},
   "source": [
    "Question:  Print multiplication table of given number\n",
    "     For example num = 2 so the output should be\n"
   ]
  },
  {
   "cell_type": "code",
   "execution_count": null,
   "id": "1af4023d",
   "metadata": {},
   "outputs": [],
   "source": [
    "num = int(input(\"Enter the number: \"))\n",
    "\n",
    "print(\"Multiplication Table of\", num)\n",
    "for i in range(1, 13):\n",
    "   print(num,\"X\",i,\"=\",num * i)"
   ]
  },
  {
   "cell_type": "markdown",
   "id": "26925b07",
   "metadata": {},
   "source": [
    "question: Given a list iterate it and display numbers which are divisible by 5 and if you find number greater than 150 stop the loop iteration\n",
    "list1 = [12, 15, 32, 42, 55, 75, 122, 132, 150, 180, 200]\n"
   ]
  },
  {
   "cell_type": "code",
   "execution_count": null,
   "id": "47a1143c",
   "metadata": {},
   "outputs": [],
   "source": [
    "#solution:\n",
    "    \n",
    "    list1 = [12, 15, 32, 42, 55, 75, 122, 132, 150, 180, 200]\n",
    "for item in list1:\n",
    "    if item > 150:\n",
    "        break\n",
    "    elif item % 5 == 0:\n",
    "        print(item)"
   ]
  },
  {
   "cell_type": "markdown",
   "id": "6ecd4db1",
   "metadata": {},
   "source": [
    "Question: Given a number count the total number of digits in a number\n",
    " For example, the number is 75869, so the output should be 5.\n"
   ]
  },
  {
   "cell_type": "code",
   "execution_count": null,
   "id": "087e6767",
   "metadata": {},
   "outputs": [],
   "source": [
    "num=75869\n",
    "count=0\n",
    "while(num>0):\n",
    "    count=count+1\n",
    "    num=num//10\n",
    "print(\"The number of digits in the number are:\",count"
   ]
  },
  {
   "cell_type": "markdown",
   "id": "62f7a9e6",
   "metadata": {},
   "source": [
    "Question: Display -10 to -1 using for loop"
   ]
  },
  {
   "cell_type": "code",
   "execution_count": null,
   "id": "bd778ec4",
   "metadata": {},
   "outputs": [],
   "source": [
    "#solution:\n",
    "\n",
    "for i in range(-10,0,1):\n",
    "    print(i)"
   ]
  },
  {
   "cell_type": "markdown",
   "id": "824ae942",
   "metadata": {},
   "source": [
    "Question: Display a message “Done” after successful execution of for loop\n",
    "  For example, the following loop will execute without any error.\n"
   ]
  },
  {
   "cell_type": "code",
   "execution_count": null,
   "id": "32ee3d85",
   "metadata": {},
   "outputs": [],
   "source": [
    "\n",
    "for i in range(5):\n",
    "    print(i)\n",
    "    print('\\n')\n",
    "print(\"Done!\")"
   ]
  },
  {
   "cell_type": "markdown",
   "id": "656f1884",
   "metadata": {},
   "source": [
    "Question: Print the following pattern using nested for loop\n",
    "Expected output\n"
   ]
  },
  {
   "cell_type": "code",
   "execution_count": null,
   "id": "25ac8105",
   "metadata": {},
   "outputs": [],
   "source": [
    "rows = 5\n",
    "for i in range(0, rows + 1):\n",
    "    for j in range(rows - i, 0, -1):\n",
    "        print(j, end=' ')\n",
    "    print()"
   ]
  },
  {
   "cell_type": "markdown",
   "id": "be3df48e",
   "metadata": {},
   "source": [
    "# Assignment on string"
   ]
  },
  {
   "cell_type": "markdown",
   "id": "4796fd59",
   "metadata": {},
   "source": [
    "1) Which method/inbuilt function should I use to convert String \"welcome to the beautiful world of python\" to \"Welcome To The Beautiful World Of Python\"."
   ]
  },
  {
   "cell_type": "code",
   "execution_count": null,
   "id": "76dea4e1",
   "metadata": {},
   "outputs": [],
   "source": [
    "str1=\"welcome to the beautiful world of python\"\n",
    "print(str1.title())\n"
   ]
  },
  {
   "cell_type": "markdown",
   "id": "cc2fd3b1",
   "metadata": {},
   "source": [
    "\n",
    "2) Split a given string on hyphens into several substrings\n",
    "      str1 = Emma-is-a-data-scientist\n"
   ]
  },
  {
   "cell_type": "code",
   "execution_count": null,
   "id": "8b6438d9",
   "metadata": {},
   "outputs": [],
   "source": [
    "str1 = \"Emma is a data scientist\"\n",
    "print(str1.split(\" \"))"
   ]
  },
  {
   "cell_type": "markdown",
   "id": "633ced7a",
   "metadata": {},
   "source": [
    "3) Remove empty strings from a list of strings\n",
    "        str_list = [\"Emma\", \"Jon\", \"\", \"Kelly\", None, \"Eric\", \"\"]\n"
   ]
  },
  {
   "cell_type": "code",
   "execution_count": null,
   "id": "29fe86c8",
   "metadata": {},
   "outputs": [],
   "source": [
    "str_list = [\"Emma\", \"Jon\", \"\", \"Kelly\", None, \"Eric\", \"\"]\n",
    "\n",
    "print(str_list)\n",
    "str_list.pop(2)\n",
    "str_list.pop(5)\n",
    "print(str_list)"
   ]
  },
  {
   "cell_type": "markdown",
   "id": "b4a8219a",
   "metadata": {},
   "source": [
    "4) Create an string and execute the following inbuilt functions on it.\n",
    "        - upper, lower, capitalize, split, join, isnumeric, isalpha, isdigit, count, isalnum.\n",
    "\n"
   ]
  },
  {
   "cell_type": "code",
   "execution_count": null,
   "id": "17c557f4",
   "metadata": {},
   "outputs": [],
   "source": [
    "city=(\"pune\",\"hyd\",\"delhi\",\"mumbai\",\"chennai\")\n",
    "print(city[3].upper())\n",
    "\n",
    "city=(\"pune\",\"hyd\",\"delhi\",\"mumbai\",\"chennai\")\n",
    "print(city[3].lower())\n",
    "\n",
    "city=(\"pune\",\"hyd\",\"delhi\",\"mumbai\",\"chennai\")\n",
    "print(city[3].capitalize())\n",
    "\n",
    "greeting= \"Good Morning Hydrebad\"\n",
    "print(greeting.split())\n",
    "\n",
    "message = ['Python',  'is',  'a',  'fun',  'programming',  'language']\n",
    "print(' '.join(message))\n",
    "\n",
    "message= \"Good Morning Nigeria\"\n",
    "print(message.isnumeric())\n",
    "\n",
    "message= \"Good Morning Nigeria\"\n",
    "print(message.isalpha())\n",
    "\n",
    "message= \"Good Morning Nigeria\"\n",
    "print(message.isdigit())\n",
    "\n",
    "prog_lang=[\"python\",\"java\",\"aws\",\"java\",\"python\",\"python\",\"java\",\"hadoop\"]\n",
    "print(prog_lang.count(\"python\"))\n",
    "\n",
    "message= \"Good Morning Nigeria\"\n",
    "print(message.isalnum())"
   ]
  },
  {
   "cell_type": "markdown",
   "id": "d52f7cad",
   "metadata": {},
   "source": [
    "7) Find all occurrences of “USA” in given string ignoring the case\n",
    "str1 = \"Welcome to USA. usa awesome, isn't it?\"\n"
   ]
  },
  {
   "cell_type": "code",
   "execution_count": null,
   "id": "5379a540",
   "metadata": {},
   "outputs": [],
   "source": [
    "str1 = \"Welcome to USA. usa awesome, isn't it?\"\n",
    "sub_string = \"USA\"\n",
    "\n",
    "t_str = str1.lower()\n",
    "\n",
    "count = t_str.count(sub_string.lower())\n",
    "print(\"The USA count is:\", count)"
   ]
  },
  {
   "cell_type": "markdown",
   "id": "26fd69e9",
   "metadata": {},
   "source": [
    "# Assignment on List DataType:\n"
   ]
  },
  {
   "cell_type": "markdown",
   "id": "18c9b488",
   "metadata": {},
   "source": [
    "2) Create an list of elements and execute the following functions: reverse, append, extend, count,sort."
   ]
  },
  {
   "cell_type": "markdown",
   "id": "0958133b",
   "metadata": {},
   "source": [
    "list1=[23,45,78,48,66,92,80]\n",
    "list1.reverse()\n",
    "print(list1)\n",
    "\n",
    "\n",
    "list1=[23,45,78,48,66,92,80]\n",
    "list1.append(100)\n",
    "print(list1)\n",
    "\n",
    "ist1=[23,45,78,48,66,92,80]\n",
    "list2=[10,20,30]\n",
    "list1.extend(list2)\n",
    "print(list1)\n",
    "\n",
    "\n",
    "list1=[23,45,78,48,66,92,80,45]\n",
    "print(list1.count(45))\n",
    "\n",
    "\n",
    "list1=[23,45,78,48,66,92,80,45]\n",
    "list1.sort()\n",
    "print(list1)\n"
   ]
  },
  {
   "cell_type": "markdown",
   "id": "625295e0",
   "metadata": {},
   "source": [
    "Write a Python program to print a specified list after removing the 0th, 4th and 5th elements.\n",
    "Sample List : ['Red', 'Green', 'White', 'Black', 'Pink', 'Yellow']\n",
    "Expected Output : ['Green', 'White', 'Black']\n"
   ]
  },
  {
   "cell_type": "code",
   "execution_count": null,
   "id": "f248d047",
   "metadata": {},
   "outputs": [],
   "source": [
    "sample_list=['Red', 'Green', 'White', 'Black', 'Pink', 'Yellow']\n",
    "sample_list.pop(0)\n",
    "sample_list.remove(\"Pink\")\n",
    "sample_list.pop(3)\n",
    "print(sample_list)"
   ]
  },
  {
   "cell_type": "markdown",
   "id": "0469c2f5",
   "metadata": {},
   "source": [
    "4) What is the output of the following list operation\n",
    "        aList = [10, 20, 30, 40, 50, 60, 70, 80]\n",
    "print(aList[2:5])\n",
    "print(aList[:4])\n",
    "print(aList[3:])\n"
   ]
  },
  {
   "cell_type": "markdown",
   "id": "0efb9c61",
   "metadata": {},
   "source": [
    "[30, 40, 50]\n",
    "\n",
    "[10, 20, 30, 40]\n",
    "\n",
    "[40, 50, 60, 70, 80]"
   ]
  },
  {
   "cell_type": "markdown",
   "id": "e083526d",
   "metadata": {},
   "source": [
    "6) Create an list of elements and slice & dice it."
   ]
  },
  {
   "cell_type": "code",
   "execution_count": null,
   "id": "a40a8aac",
   "metadata": {},
   "outputs": [],
   "source": [
    "list1=[23,45,78,48,66,92,80,45]\n",
    "print(list1[3:5:2])"
   ]
  },
  {
   "cell_type": "markdown",
   "id": "13a2a506",
   "metadata": {},
   "source": [
    "7) Given a Python list you should be able to display Python list in the following order\n",
    "       \n",
    "       aLsit = [100, 200, 300, 400, 500]\n"
   ]
  },
  {
   "cell_type": "code",
   "execution_count": null,
   "id": "1c42db07",
   "metadata": {},
   "outputs": [],
   "source": [
    "\n",
    "list=[100,200,300,400,500]\n",
    "list.sort(reverse=True)\n",
    "print(list)"
   ]
  },
  {
   "cell_type": "markdown",
   "id": "c36ebf2f",
   "metadata": {},
   "source": [
    "8) What will be the output of the following code snippet?\n",
    "a=[1,2,3,4,5]\n",
    "print(a[3:0:-1])\n"
   ]
  },
  {
   "cell_type": "markdown",
   "id": "ae3a1072",
   "metadata": {},
   "source": [
    "[4, 3, 2]"
   ]
  },
  {
   "cell_type": "markdown",
   "id": "fc4d4241",
   "metadata": {},
   "source": [
    "9) Add item 7000 after 6000 in the following Python List\n",
    "     \n",
    "    list1 = [10, 20, [300, 400, [5000, 6000], 500], 30, 40]\n"
   ]
  },
  {
   "cell_type": "code",
   "execution_count": null,
   "id": "95f39e61",
   "metadata": {},
   "outputs": [],
   "source": [
    "list1 = [10, 20, [300, 400, [5000, 6000], 500], 30, 40]\n",
    "sub_list=list1[2]    \n",
    "sub_lista=sub_list[2]\n",
    "sub_lista.append(7000)\n",
    "print(list1)"
   ]
  },
  {
   "cell_type": "markdown",
   "id": "422c897c",
   "metadata": {},
   "source": [
    "# Assignment on tuple"
   ]
  },
  {
   "cell_type": "markdown",
   "id": "069e4fe2",
   "metadata": {},
   "source": [
    "2) Access value 20 from the following tuple\n",
    "       aTuple = (\"Orange\", [10, 20, 30], (5, 15, 25))\n"
   ]
  },
  {
   "cell_type": "code",
   "execution_count": null,
   "id": "aa7fb53e",
   "metadata": {},
   "outputs": [],
   "source": [
    "aTuple = (\"Orange\", [10, 20, 30], (5, 15, 25))\n",
    "print(aTuple[1][1])"
   ]
  },
  {
   "cell_type": "markdown",
   "id": "91bb14c4",
   "metadata": {},
   "source": [
    "3) Unpack the following tuple into 4 variables\n",
    "aTuple = (10, 20, 30, 40)\n",
    "Expected output:\n",
    "aTuple = (10, 20, 30, 40)\n",
    "# Your code\n",
    "print(a) # should print 10\n",
    "print(b) # should print 20\n",
    "print(c) # should print 30\n",
    "print(d) # should print 40\n"
   ]
  },
  {
   "cell_type": "code",
   "execution_count": null,
   "id": "f2f1089c",
   "metadata": {},
   "outputs": [],
   "source": [
    "aTuple = (10, 20, 30, 40)\n",
    "for i in aTuple:\n",
    "    \n",
    "    print(\"should print\",i)"
   ]
  },
  {
   "cell_type": "markdown",
   "id": "9c06aad5",
   "metadata": {},
   "source": [
    "4) Copy element 44 and 55 from the following tuple into a new tuple\n",
    "       tuple1 = (11, 22, 33, 44, 55, 66)\n",
    "Expected output:\n",
    "tuple2 = (44, 55)\n"
   ]
  },
  {
   "cell_type": "code",
   "execution_count": null,
   "id": "007762aa",
   "metadata": {},
   "outputs": [],
   "source": [
    "tuple1 = (11, 22, 33, 44, 55, 66)\n",
    "tuple2=tuple1[3:5]\n",
    "print(tuple2)"
   ]
  },
  {
   "cell_type": "markdown",
   "id": "225b5cf8",
   "metadata": {},
   "source": [
    "5) Counts the number of occurrences of item 50 from a tuple\n",
    "              tuple1 = (50, 10, 60, 70, 50)\n"
   ]
  },
  {
   "cell_type": "code",
   "execution_count": null,
   "id": "5a104e90",
   "metadata": {},
   "outputs": [],
   "source": [
    "tuple1 = (50, 10, 60, 70, 50)\n",
    "print(tuple1.count(50))"
   ]
  },
  {
   "cell_type": "markdown",
   "id": "55a57eca",
   "metadata": {},
   "source": [
    "\n",
    "6) Modify the first item (22) of a list inside a following tuple to 222\n",
    "        tuple1 = (11, [22, 33], 44, 55)\n"
   ]
  },
  {
   "cell_type": "code",
   "execution_count": null,
   "id": "4970e25c",
   "metadata": {},
   "outputs": [],
   "source": [
    "tuple1 = (11, [22, 33], 44, 55)\n",
    "tuple2=tuple1[1]\n",
    "tuple2[0]=222\n",
    "print(tuple1)\n"
   ]
  },
  {
   "cell_type": "markdown",
   "id": "2a350aed",
   "metadata": {},
   "source": [
    "7) Swap the following two tuples\n",
    "         tuple1 = (11, 22)\n",
    "tuple2 = (99, 88)\n"
   ]
  },
  {
   "cell_type": "markdown",
   "id": "ccb7b398",
   "metadata": {},
   "source": [
    "Tuple cannot be swaped"
   ]
  },
  {
   "cell_type": "markdown",
   "id": "0310986b",
   "metadata": {},
   "source": [
    "8) Reverse the following tuple\n",
    "aTuple = (10, 20, 30, 40, 50)\n"
   ]
  },
  {
   "cell_type": "markdown",
   "id": "ff3750d9",
   "metadata": {},
   "source": [
    "Tuples are immutable"
   ]
  },
  {
   "cell_type": "markdown",
   "id": "47b28229",
   "metadata": {},
   "source": [
    "# Assignment on DateTime"
   ]
  },
  {
   "cell_type": "markdown",
   "id": "a2accad6",
   "metadata": {},
   "source": [
    "1) Write a Python program to get the current time in Python. \n",
    "Sample Format :  13:19:49.078205\n"
   ]
  },
  {
   "cell_type": "code",
   "execution_count": null,
   "id": "57a3df6b",
   "metadata": {},
   "outputs": [],
   "source": [
    "import datetime\n",
    "now = datetime.datetime.now()\n",
    "print (\"Current date and time : \")\n",
    "print (now.strftime(\"%Y-%m-%d %H:%M:%S\"))"
   ]
  },
  {
   "cell_type": "markdown",
   "id": "e857ba7e",
   "metadata": {},
   "source": [
    "2) Write a Python program to subtract five days from current date. \n",
    "Sample Date :\n",
    "Current Date : 2015-06-22\n",
    "5 days before Current Date : 2015-06-17\n"
   ]
  },
  {
   "cell_type": "code",
   "execution_count": null,
   "id": "0d6e68ca",
   "metadata": {},
   "outputs": [],
   "source": [
    "import datetime\n",
    "now=datetime.datetime.now()\n",
    "days=datetime.timedelta(5)\n",
    "new_date=now-days\n",
    "print(new_date)"
   ]
  },
  {
   "cell_type": "markdown",
   "id": "b22a572f",
   "metadata": {},
   "source": [
    "3) Write a Python script to display the various Date Time formats.\n",
    "a) Current date and time\n",
    "b) Current year\n",
    "c) Month of year\n",
    "d) Week number of the year\n",
    "e) Weekday of the week\n",
    "f) Day of year\n",
    "g) Day of the month\n",
    "h) Day of week\n"
   ]
  },
  {
   "cell_type": "code",
   "execution_count": null,
   "id": "fb8e7955",
   "metadata": {},
   "outputs": [],
   "source": [
    "import calendar\n",
    "import datetime\n",
    "month = datetime.date.today().month\n",
    "year = datetime.date.today().year\n",
    "print (calendar.month(year,month))"
   ]
  },
  {
   "cell_type": "code",
   "execution_count": null,
   "id": "f64c2e22",
   "metadata": {},
   "outputs": [],
   "source": [
    "import datetime\n",
    "print(datetime.date(2021, 11, 19).isocalendar()[1])"
   ]
  },
  {
   "cell_type": "code",
   "execution_count": null,
   "id": "41b9317b",
   "metadata": {},
   "outputs": [],
   "source": [
    "import datetime\n",
    "from datetime import date\n",
    "import calendar\n",
    " \n",
    "def findDay(date):\n",
    "    day, month, year = (int(i) for i in date.split(' '))   \n",
    "    born = datetime.date(year, month, day)\n",
    "    return born.strftime(\"%A\")\n",
    "\n",
    "date = '19 11 2021'\n",
    "print(findDay(date))\n"
   ]
  },
  {
   "cell_type": "code",
   "execution_count": null,
   "id": "b7989385",
   "metadata": {},
   "outputs": [],
   "source": [
    "import datetime\n",
    "today = datetime.datetime.now()\n",
    "day_of_year = (today - datetime.datetime(today.year, 1, 1)).days + 1\n",
    "print(day_of_year)"
   ]
  },
  {
   "cell_type": "code",
   "execution_count": null,
   "id": "aec3e5ee",
   "metadata": {},
   "outputs": [],
   "source": [
    "from calendar import monthrange\n",
    "year = 2021\n",
    "month = 11\n",
    "print(monthrange(year, month))\n"
   ]
  },
  {
   "cell_type": "code",
   "execution_count": null,
   "id": "0ca49b4a",
   "metadata": {},
   "outputs": [],
   "source": [
    "import datetime\n",
    "\n",
    "week_days=[\"Monday\",\"Tuesday\",\"Wednesday\",\"Thursday\",\"Friday\",\"Saturday\",\"Sunday\"]\n",
    "week_num=datetime.date(2020,7,24).weekday()\n",
    "print(week_days[week_num])\n",
    "\n"
   ]
  },
  {
   "cell_type": "markdown",
   "id": "27aec4c3",
   "metadata": {},
   "source": [
    "4) Write a Python program to convert a string to datetime. \n",
    "\n",
    "Sample String : Jan 1 2014 2:43PM\n",
    "Expected Output : 2014-07-01 14:43:00\n"
   ]
  },
  {
   "cell_type": "code",
   "execution_count": null,
   "id": "77b79e0c",
   "metadata": {},
   "outputs": [],
   "source": [
    "\n",
    "from datetime import datetime\n",
    "date_object = datetime.strptime('Jan 1 2014 2:43PM', '%b %d %Y %I:%M%p')\n",
    "print(date_object)"
   ]
  },
  {
   "cell_type": "markdown",
   "id": "f88ed6df",
   "metadata": {},
   "source": [
    "5) Write a Python program to print yesterday, today, tomorrow"
   ]
  },
  {
   "cell_type": "code",
   "execution_count": null,
   "id": "294277ff",
   "metadata": {},
   "outputs": [],
   "source": [
    "import datetime \n",
    "today = datetime.date.today()\n",
    "yesterday = today - datetime.timedelta(days = 1)\n",
    "tomorrow = today + datetime.timedelta(days = 1) \n",
    "print('Yesterday : ',yesterday)\n",
    "print('Today : ',today)\n",
    "print('Tomorrow : ',tomorrow)"
   ]
  },
  {
   "cell_type": "markdown",
   "id": "fa2138b4",
   "metadata": {},
   "source": [
    "6) Write a Python program to add 5 seconds with the current time\n"
   ]
  },
  {
   "cell_type": "code",
   "execution_count": null,
   "id": "845be761",
   "metadata": {},
   "outputs": [],
   "source": [
    "import datetime\n",
    "x= datetime.datetime.now()\n",
    "y = x + datetime.timedelta(0,5)\n",
    "print(x.time())\n",
    "print(y.time())"
   ]
  },
  {
   "cell_type": "markdown",
   "id": "070f322e",
   "metadata": {},
   "source": [
    "Write a Python program to get week number. \n",
    "Sample Date : 2015, 6, 16\n",
    "Expected Output : 25\n"
   ]
  },
  {
   "cell_type": "code",
   "execution_count": null,
   "id": "0ce81c68",
   "metadata": {},
   "outputs": [],
   "source": [
    "import datetime\n",
    "    datetime.date(2015, 6, 16).isocalendar()[1]"
   ]
  },
  {
   "cell_type": "markdown",
   "id": "7e957d05",
   "metadata": {},
   "source": [
    "8) Write a Python program to drop microseconds from datetime"
   ]
  },
  {
   "cell_type": "code",
   "execution_count": null,
   "id": "63bef641",
   "metadata": {},
   "outputs": [],
   "source": [
    "import datetime\n",
    "dt = datetime.datetime.today().replace(microsecond=0)\n",
    "print()\n",
    "print(dt)\n",
    "print()"
   ]
  },
  {
   "cell_type": "markdown",
   "id": "2a526cd1",
   "metadata": {},
   "source": [
    "9) Write a Python program to get days between two dates. \n",
    "Sample Dates : 2000,2,28, 2001,2,28\n",
    "Expected Output : 366 days, 0:00:00\n"
   ]
  },
  {
   "cell_type": "code",
   "execution_count": null,
   "id": "fd5f61ea",
   "metadata": {},
   "outputs": [],
   "source": [
    "from datetime import date\n",
    "f_date = date(2000, 2, 28)\n",
    "l_date = date(2001, 2, 28)\n",
    "delta = l_date - f_date\n",
    "print(delta.days,\"days,0:00:00\")"
   ]
  },
  {
   "cell_type": "markdown",
   "id": "edf93381",
   "metadata": {},
   "source": [
    "Write a Python program to get the number of days of a given month and year."
   ]
  },
  {
   "cell_type": "code",
   "execution_count": null,
   "id": "43dd39b0",
   "metadata": {},
   "outputs": [],
   "source": [
    "from calendar import monthrange\n",
    "year = 2021\n",
    "month = 11\n",
    "print(monthrange(year, month))"
   ]
  },
  {
   "cell_type": "markdown",
   "id": "3cf83509",
   "metadata": {},
   "source": [
    "# Assignment on Dictionary"
   ]
  },
  {
   "cell_type": "markdown",
   "id": "46cd4fa1",
   "metadata": {},
   "source": [
    "1) Write a Python script to sort (ascending and descending) a dictionary by value."
   ]
  },
  {
   "cell_type": "code",
   "execution_count": null,
   "id": "509d11df",
   "metadata": {},
   "outputs": [],
   "source": [
    "import operator\n",
    "d = {1: 2, 3: 4, 4: 3, 2: 1, 0: 0}\n",
    "print('Original dictionary : ',d)\n",
    "sorted_d = sorted(d.items(), key=operator.itemgetter(1))\n",
    "print('Dictionary in ascending order by value : ',sorted_d)\n",
    "sorted_d = dict( sorted(d.items(), key=operator.itemgetter(1),reverse=True))\n",
    "print('Dictionary in descending order by value : ',sorted_d)"
   ]
  },
  {
   "cell_type": "markdown",
   "id": "6e1ede18",
   "metadata": {},
   "source": [
    "2) Write a Python script to add a key to a dictionary. Go to the editor\n",
    "Sample Dictionary : {0: 10, 1: 20}\n",
    "Expected Result : {0: 10, 1: 20, 2: 30}\n"
   ]
  },
  {
   "cell_type": "code",
   "execution_count": null,
   "id": "bdd5a4c4",
   "metadata": {},
   "outputs": [],
   "source": [
    "sample_dictionary = {0:10, 1:20}\n",
    "print(sample_dictionary)\n",
    "sample_dictionary.update({2:30})\n",
    "print(sample_dictionary)\n"
   ]
  },
  {
   "cell_type": "markdown",
   "id": "bd1ef809",
   "metadata": {},
   "source": [
    "3) Write a Python script to merge two Python dictionaries."
   ]
  },
  {
   "cell_type": "code",
   "execution_count": null,
   "id": "428cf7c5",
   "metadata": {},
   "outputs": [],
   "source": [
    "dict1 = {'d': 100, 'f': 200}\n",
    "dict2 = {'x': 300, 'y': 200}\n",
    "d = dict1.copy()\n",
    "d.update(dict2)\n",
    "print(d)"
   ]
  },
  {
   "cell_type": "markdown",
   "id": "d346ffe1",
   "metadata": {},
   "source": [
    "4) Write a Python program to sum all the items in a dictionary"
   ]
  },
  {
   "cell_type": "code",
   "execution_count": null,
   "id": "df7158bd",
   "metadata": {},
   "outputs": [],
   "source": [
    "my_dict = {'data1':150,'data2':48,'data3':657}\n",
    "print(sum(my_dict.values()))"
   ]
  },
  {
   "cell_type": "markdown",
   "id": "ca9866aa",
   "metadata": {},
   "source": [
    "5) Write a Python program to combine two dictionary adding values for common keys. \n",
    "d1 = {'a': 100, 'b': 200, 'c':300}\n",
    "d2 = {'a': 300, 'b': 200, 'd':400}\n",
    "Sample output: Counter({'a': 400, 'b': 400, 'd': 400, 'c': 300})\n"
   ]
  },
  {
   "cell_type": "code",
   "execution_count": null,
   "id": "867e345a",
   "metadata": {},
   "outputs": [],
   "source": [
    "from collections import Counter\n",
    "d1 = {'a': 100, 'b': 200, 'c':300}\n",
    "d2 = {'a': 300, 'b': 200, 'd':400}\n",
    "d = Counter(d1) + Counter(d2)\n",
    "print(d)"
   ]
  },
  {
   "cell_type": "markdown",
   "id": "79e18783",
   "metadata": {},
   "source": [
    "7) Write a Python program to count number of items in a dictionary value that is a list.\n",
    "         \n"
   ]
  },
  {
   "cell_type": "code",
   "execution_count": null,
   "id": "d81a08dc",
   "metadata": {},
   "outputs": [],
   "source": [
    "7.dict =  {'Akin': ['subj1', 'subj2', 'subj3'], 'Daniel': ['subj1', 'subj2']}\n",
    "ctr = sum(map(len, dict.values()))\n",
    "print(ctr)"
   ]
  },
  {
   "cell_type": "markdown",
   "id": "257b466f",
   "metadata": {},
   "source": [
    "# Assignment on Defined Function's"
   ]
  },
  {
   "cell_type": "markdown",
   "id": "163910a9",
   "metadata": {},
   "source": [
    "Python function to sum all the numbers in a list. \n",
    "Sample List : (8, 2, 3, 0, 7)\n",
    "Expected Output : 20\n"
   ]
  },
  {
   "cell_type": "code",
   "execution_count": null,
   "id": "b933124b",
   "metadata": {},
   "outputs": [],
   "source": [
    "\n",
    "def sum(numbers):\n",
    "    total = 0\n",
    "    for i in numbers:\n",
    "        total += i\n",
    "    return total\n",
    "print(sum((8, 2, 3, 0, 7)))"
   ]
  },
  {
   "cell_type": "markdown",
   "id": "73f3c87b",
   "metadata": {},
   "source": [
    "2) Write a Python function to multiply all the numbers in a list. \n",
    "Sample List : (8, 2, 3, -1, 7)\n",
    "Expected Output : -336\n"
   ]
  },
  {
   "cell_type": "code",
   "execution_count": null,
   "id": "b6700b96",
   "metadata": {},
   "outputs": [],
   "source": [
    "\n",
    "def multiply(numbers):  \n",
    "    total = 1\n",
    "    for i in numbers:\n",
    "        total *= i  \n",
    "    return total  \n",
    "print(multiply((8, 2, 3, -1, 7)))"
   ]
  },
  {
   "cell_type": "markdown",
   "id": "8cc75ac1",
   "metadata": {},
   "source": [
    "3) Write a Python function to check whether a number is in a given range"
   ]
  },
  {
   "cell_type": "code",
   "execution_count": null,
   "id": "bc1afad7",
   "metadata": {},
   "outputs": [],
   "source": [
    "def test_range(n):\n",
    "    if n in range(2,11):\n",
    "        print( \" %s is in the range\"%str(n))\n",
    "    else :\n",
    "        print(\"The number is outside the given range.\")\n",
    "test_range(3)"
   ]
  },
  {
   "cell_type": "markdown",
   "id": "159d3864",
   "metadata": {},
   "source": [
    "4) Write a Python function that takes a list and returns a new list with unique elements of the first list.\n",
    "Sample List : [1,2,3,3,3,3,4,5]\n",
    "Unique List : [1, 2, 3, 4, 5]\n"
   ]
  },
  {
   "cell_type": "code",
   "execution_count": null,
   "id": "124c0f4e",
   "metadata": {},
   "outputs": [],
   "source": [
    "def unique_list(l):\n",
    "  a = []\n",
    "  for i in l:\n",
    "    if i not in a:\n",
    "      a.append(i)\n",
    "  return a\n",
    "\n",
    "print(unique_list([1,2,3,3,3,3,4,5]))"
   ]
  },
  {
   "cell_type": "markdown",
   "id": "7f605aa3",
   "metadata": {},
   "source": [
    "5) Write a Python function that takes a number as a parameter and check the number is prime or not.\n",
    "Note : A prime number (or a prime) is a natural number greater than 1 and that has no positive divisors other than 1 and itself.\n"
   ]
  },
  {
   "cell_type": "code",
   "execution_count": null,
   "id": "24a0405d",
   "metadata": {},
   "outputs": [],
   "source": [
    "\n",
    "def test_prime(n):\n",
    "    if (n==1):\n",
    "        return False\n",
    "    elif (n==2):\n",
    "        return True;\n",
    "    else:\n",
    "        for x in range(2,n):\n",
    "            if(n % x==0):\n",
    "                return False\n",
    "        return True             \n",
    "print(test_prime(5))"
   ]
  },
  {
   "cell_type": "markdown",
   "id": "f77350dc",
   "metadata": {},
   "source": [
    "6) Write a Python program to print the even numbers from a given list."
   ]
  },
  {
   "cell_type": "code",
   "execution_count": null,
   "id": "fb8c7179",
   "metadata": {},
   "outputs": [],
   "source": [
    "def is_even_num(l):\n",
    "    enum = []\n",
    "    for n in l:\n",
    "        if n % 2 == 0:\n",
    "            enum.append(n)\n",
    "    return enum\n",
    "print(is_even_num([1, 2, 3, 4, 5, 6, 7, 8, 9]))\n"
   ]
  },
  {
   "cell_type": "markdown",
   "id": "554e760b",
   "metadata": {},
   "source": [
    "7) Write a Python function to calculate the factorial of a number (a non-negative integer). The function accepts the number as an argument."
   ]
  },
  {
   "cell_type": "code",
   "execution_count": null,
   "id": "699dcfd8",
   "metadata": {},
   "outputs": [],
   "source": [
    "def factorial(n):\n",
    "    if n == 0:\n",
    "        return 1\n",
    "    else:\n",
    "        return n * factorial(n-1)\n",
    "n=int(input(\"Input a number to compute the factiorial : \"))\n",
    "print(factorial(n))\n"
   ]
  },
  {
   "cell_type": "markdown",
   "id": "6592590b",
   "metadata": {},
   "source": [
    "Write a Python function to check whether a number is perfect or not. Go to the editor\n",
    "According to Wikipedia : In number theory, a perfect number is a positive integer that is equal to the sum of its proper positive divisors, that is, the sum of its positive divisors excluding the number itself (also known as its aliquot sum). Equivalently, a perfect number is a number that is half the sum of all of its positive divisors (including itself).\n",
    "Example : The first perfect number is 6, because 1, 2, and 3 are its proper positive divisors, and 1 + 2 + 3 = 6. Equivalently, the number 6 is equal to half the sum of all its positive divisors: ( 1 + 2 + 3 + 6 ) / 2 = 6. The next perfect number is 28 = 1 + 2 + 4 + 7 + 14. This is followed by the perfect numbers 496 and 8128.\n"
   ]
  },
  {
   "cell_type": "code",
   "execution_count": null,
   "id": "ff301e7b",
   "metadata": {},
   "outputs": [],
   "source": [
    "\n",
    "def perfect_number(n):\n",
    "    sum = 0\n",
    "    for a in range(1, n):\n",
    "        if n % a == 0:\n",
    "            sum += a\n",
    "    return sum == n\n",
    "print(perfect_number(6))"
   ]
  },
  {
   "cell_type": "markdown",
   "id": "461636fd",
   "metadata": {},
   "source": [
    "\n",
    "\n",
    "9) Write a Python function to create and print a list where the values are square of numbers between 1 and 30 (both included).\n"
   ]
  },
  {
   "cell_type": "code",
   "execution_count": null,
   "id": "5a255d47",
   "metadata": {},
   "outputs": [],
   "source": [
    "sqr_list = [] \n",
    "for a in range(1,31): \n",
    "  sqr_list.append(a*a) \n",
    " \n",
    "print(*sqr_list)"
   ]
  },
  {
   "cell_type": "markdown",
   "id": "643dac90",
   "metadata": {},
   "source": [
    "# Assignment on Lambda Functions"
   ]
  },
  {
   "cell_type": "markdown",
   "id": "80ae55f1",
   "metadata": {},
   "source": [
    "Write a Python program to sort a list of tuples using Lambda.\n",
    "         subject_marks = [('English', 88), ('Science', 90), ('Maths', 97), ('Social sciences', 82)\n"
   ]
  },
  {
   "cell_type": "code",
   "execution_count": null,
   "id": "99af234f",
   "metadata": {},
   "outputs": [],
   "source": [
    "subject_marks = [('English', 88), ('Science', 90), ('Maths', 97), ('Social sciences', 82)]\n",
    "print(\"Original list of tuples:\")\n",
    "print(subject_marks)\n",
    "subject_marks.sort(key = lambda x: x[1])\n",
    "print(\"\\nSorting the List of Tuples:\")\n",
    "print(subject_marks)"
   ]
  },
  {
   "cell_type": "markdown",
   "id": "3fa20369",
   "metadata": {},
   "source": [
    "2) Write a Python program to square and cube every number in a given list of integers using Lambda."
   ]
  },
  {
   "cell_type": "code",
   "execution_count": null,
   "id": "bc733eaf",
   "metadata": {},
   "outputs": [],
   "source": [
    "nums = [1, 2, 3, 4, 5, 6, 7, 8, 9, 10]\n",
    "print(\"Original list of integers:\")\n",
    "print(nums)\n",
    "print(\"\\nSquare every number of the said list:\")\n",
    "square_nums = list(map(lambda x: x ** 2, nums))\n",
    "print(square_nums)\n",
    "print(\"\\nCube every number of the said list:\")\n",
    "cube_nums = list(map(lambda x: x ** 3, nums))\n",
    "print(cube_nums)"
   ]
  },
  {
   "cell_type": "markdown",
   "id": "c0900a90",
   "metadata": {},
   "source": [
    "3) Write a Python program to add two given lists using map and lambda"
   ]
  },
  {
   "cell_type": "code",
   "execution_count": null,
   "id": "39b71975",
   "metadata": {},
   "outputs": [],
   "source": [
    "nums1 = [1, 2, 3]\n",
    "nums2 = [4, 5, 6]\n",
    "print(\"Original list:\")\n",
    "print(nums1)\n",
    "print(nums2)\n",
    "result = map(lambda x, y: x + y, nums1, nums2)\n",
    "print(\"\\nResult: after adding two list\")\n",
    "print(list(result))"
   ]
  },
  {
   "cell_type": "markdown",
   "id": "e63dfb15",
   "metadata": {},
   "source": [
    "4) Write an python program to filter all the elements in the list that are divisible by 13.\n",
    "         my_list = [12, 65, 54, 39, 102,  339, 221, 50, 70]\n"
   ]
  },
  {
   "cell_type": "code",
   "execution_count": null,
   "id": "6cabc4b9",
   "metadata": {},
   "outputs": [],
   "source": [
    "my_list=[12,65,54,39,102,339,221,50,70]\n",
    "result=list(filter(lambda x:x%13==0,my_list))\n",
    "print(result)\n"
   ]
  },
  {
   "cell_type": "markdown",
   "id": "09d22396",
   "metadata": {},
   "source": [
    "5) Write a Python program that multiply each number of given list with a given number using lambda function. Print the result.\n",
    "\n"
   ]
  },
  {
   "cell_type": "code",
   "execution_count": null,
   "id": "679ad4cf",
   "metadata": {},
   "outputs": [],
   "source": [
    "nums = [3, 7, 11, 15 , 19]\n",
    "n = 2\n",
    "print(\"Original list: \", nums)\n",
    "print(\"Given number: \", n)\n",
    "filtered_numbers=list(map(lambda number:number*n,nums))\n",
    "print(\"Result:\")\n",
    "print(' '.join(map(str,filtered_numbers)))\n"
   ]
  },
  {
   "cell_type": "markdown",
   "id": "d7fa6231",
   "metadata": {},
   "source": [
    "# Assignment on Global and Local functions"
   ]
  },
  {
   "cell_type": "markdown",
   "id": "4e51724c",
   "metadata": {},
   "source": [
    "1) Create a defined function with variable outside of a function, and use it inside the function"
   ]
  },
  {
   "cell_type": "code",
   "execution_count": null,
   "id": "bd9caaf7",
   "metadata": {},
   "outputs": [],
   "source": [
    "a = \"lovely\"\n",
    "\n",
    "def display():\n",
    "  print(\"Python is \" + a)\n",
    "\n",
    "display()"
   ]
  },
  {
   "cell_type": "markdown",
   "id": "11574d07",
   "metadata": {},
   "source": [
    "2) Create a defined function with variable inside a function, with the same name as the global variable."
   ]
  },
  {
   "cell_type": "code",
   "execution_count": null,
   "id": "e83779a0",
   "metadata": {},
   "outputs": [],
   "source": [
    "a = \"lovely\"\n",
    "\n",
    "def display():\n",
    "  a = \"fantastic\"\n",
    "  print(\"Python is \" + a)\n",
    "\n",
    "display()\n",
    "\n",
    "print(\"Python is \" + a)"
   ]
  },
  {
   "cell_type": "markdown",
   "id": "dbc0d284",
   "metadata": {},
   "source": [
    "3) Create an defined function where Global variable and Local variable with same name."
   ]
  },
  {
   "cell_type": "code",
   "execution_count": null,
   "id": "c1b7ea70",
   "metadata": {},
   "outputs": [],
   "source": [
    "a = \"lovely\"\n",
    "\n",
    "def display():\n",
    "  global a\n",
    "  a = \"fantabulous\"\n",
    "\n",
    "display()\n",
    "\n",
    "print(\"Python is \" + a)"
   ]
  },
  {
   "cell_type": "markdown",
   "id": "584e2ae5",
   "metadata": {},
   "source": [
    "# Assignment on Files"
   ]
  },
  {
   "cell_type": "markdown",
   "id": "227efbf4",
   "metadata": {},
   "source": [
    "Read and append content on files in Python \n",
    "Take one file and read the contents on that file."
   ]
  },
  {
   "cell_type": "code",
   "execution_count": null,
   "id": "40e9b3f5",
   "metadata": {},
   "outputs": [],
   "source": [
    "# entering the file names\n",
    "file1 = input(\"Enter the name of first file \")\n",
    "file2 = input(\"Enter the name of second file \")\n",
    "\n",
    "# opening both files in read only mode to read initial contents\n",
    "f1 = open(file1, 'r')\n",
    "f2 = open(file2, 'r')\n",
    "# printing the contens of the file before appending\n",
    "print('content of file1 before appending -', f1.read())\n",
    "print('content of file2 before appending -', f2.read())\n",
    "\n",
    "# closing the files\n",
    "f1.close()\n",
    "f2.close()\n",
    "\n",
    "# opening first file in append mode and second file in read mode\n",
    "f1 = open(file1, 'a+')\n",
    "f2 = open(file2, 'r')\n",
    "\n",
    "# appending the contents of the second file to the first file\n",
    "f1.write(f2.read())\n",
    "\n",
    "# relocating the cursor of the files at the beginning\n",
    "f1.seek(0)\n",
    "f2.seek(0)\n",
    "\n",
    "# printing the contents of the files after appendng\n",
    "print('content of first file after appending -', f1.read())\n",
    "print('content of second file after appending -', f2.read())\n",
    "\n",
    "# closing the files\n",
    "f1.close()\n",
    "f2.close()\n",
    "\n",
    "\n"
   ]
  },
  {
   "cell_type": "markdown",
   "id": "390271aa",
   "metadata": {},
   "source": [
    "# Assignment on OOP Prog"
   ]
  },
  {
   "cell_type": "markdown",
   "id": "86c9da0f",
   "metadata": {},
   "source": [
    "Create a class named Person, use the __init__() function to assign values for name and age:"
   ]
  },
  {
   "cell_type": "code",
   "execution_count": null,
   "id": "f6ba57d3",
   "metadata": {},
   "outputs": [],
   "source": [
    "class Person:\n",
    "  def __init__(self, name, age):\n",
    "    self.name = name\n",
    "    self.age = age\n",
    "\n",
    "x1 = Person(\"lizzy\", 19)\n",
    "\n",
    "print(x1.name)\n",
    "print(x1.age)"
   ]
  },
  {
   "cell_type": "markdown",
   "id": "cff98cfa",
   "metadata": {},
   "source": [
    "Create clock class that containt Hr min sec. Accept the value and display it.\n"
   ]
  },
  {
   "cell_type": "code",
   "execution_count": null,
   "id": "6267aad8",
   "metadata": {},
   "outputs": [],
   "source": [
    "\n",
    "import datetime\n",
    "\n",
    "def convert(n):\n",
    "\treturn str(datetime.timedelta(seconds = n))\n",
    "\t\n",
    "n = int(input(\"Enter the value of n=\"))\n",
    "print(convert(n))\n",
    "\n"
   ]
  },
  {
   "cell_type": "markdown",
   "id": "c20a027f",
   "metadata": {},
   "source": [
    "# Assignment on Exception Handling"
   ]
  },
  {
   "cell_type": "markdown",
   "id": "6c69e117",
   "metadata": {},
   "source": [
    "Program to print the reciprocal of even numbers"
   ]
  },
  {
   "cell_type": "code",
   "execution_count": null,
   "id": "6a16edcf",
   "metadata": {},
   "outputs": [],
   "source": [
    "num = int(input(\"Enter a number: \"))\n",
    "\n",
    "try:\n",
    "    assert num % 2 == 0\n",
    "    reciprocal = 1/num\n",
    "    print(reciprocal)\n",
    "\n",
    "except ZeroDivisionError:\n",
    "    print(err)\n",
    "\n",
    "except:\n",
    "    print(\"Not an even number!\")"
   ]
  },
  {
   "cell_type": "markdown",
   "id": "2453ffac",
   "metadata": {},
   "source": [
    "# Assignment on Regular Expression"
   ]
  },
  {
   "cell_type": "markdown",
   "id": "46a5ffdc",
   "metadata": {},
   "source": [
    "Make a search that returns no match"
   ]
  },
  {
   "cell_type": "code",
   "execution_count": null,
   "id": "b31e4b74",
   "metadata": {},
   "outputs": [],
   "source": [
    "import re\n",
    "\n",
    "txt = \"The snow in america\"\n",
    "x = re.search(\"india\", txt)\n",
    "print(x)"
   ]
  },
  {
   "cell_type": "markdown",
   "id": "116644c1",
   "metadata": {},
   "source": [
    "Program to sort alphabetically the words form a string provided by the user"
   ]
  },
  {
   "cell_type": "code",
   "execution_count": null,
   "id": "542d074f",
   "metadata": {},
   "outputs": [],
   "source": [
    "# Program to sort alphabetically the words form a string provided by the user\n",
    "\n",
    "str_user = input(\"Enter a string: \")\n",
    "\n",
    "words = [word.lower() for word in str_user.split()]\n",
    "\n",
    "words.sort()\n",
    "\n",
    "print(\"The sorted words are:\")\n",
    "for word in words:\n",
    "   print(word)"
   ]
  },
  {
   "cell_type": "markdown",
   "id": "ea43ecd9",
   "metadata": {},
   "source": [
    "# Assignment on Tkinter"
   ]
  },
  {
   "cell_type": "markdown",
   "id": "3be047c9",
   "metadata": {},
   "source": [
    "Create Button that contain two option Quit and Hello using tkinter."
   ]
  },
  {
   "cell_type": "code",
   "execution_count": null,
   "id": "5d7a9d05",
   "metadata": {},
   "outputs": [],
   "source": [
    "import tkinter as tk   \n",
    "\n",
    "def write_text():\n",
    "    print(\"Tkinter is easy to code!\")\n",
    "\n",
    "parent = tk.Tk()\n",
    "frame = tk.Frame(parent)\n",
    "frame.pack()\n",
    "\n",
    "text_disp= tk.Button(frame, \n",
    "                   text=\"Hello\", \n",
    "                   command=write_text\n",
    "                   )\n",
    "\n",
    "text_disp.pack(side=tk.LEFT)\n",
    "\n",
    "exit_button = tk.Button(frame,\n",
    "                   text=\"Quit\",\n",
    "                   fg=\"green\",\n",
    "                   command=quit)\n",
    "exit_button.pack(side=tk.RIGHT)\n",
    "\n",
    "parent.mainloop()"
   ]
  },
  {
   "cell_type": "markdown",
   "id": "dff5d048",
   "metadata": {},
   "source": [
    "File -->New , Open , Exit \n",
    "\n",
    "Help"
   ]
  },
  {
   "cell_type": "code",
   "execution_count": null,
   "id": "3ab30268",
   "metadata": {},
   "outputs": [],
   "source": [
    "from tkinter import Tk, Frame, Menu\n",
    "\n",
    "\n",
    "# root window\n",
    "root = Tk()\n",
    "root.geometry('320x150')\n",
    "root.title('Menu Demo')\n",
    "\n",
    "\n",
    "# create a menubar\n",
    "menubar = Menu(root)\n",
    "root.config(menu=menubar)\n",
    "\n",
    "# create the file_menu\n",
    "file_menu = Menu(\n",
    "    menubar,\n",
    "    tearoff=0\n",
    ")\n",
    "\n",
    "# add menu items to the File menu\n",
    "file_menu.add_command(label='New')\n",
    "file_menu.add_command(label='Open...')\n",
    "file_menu.add_command(label='Close')\n",
    "file_menu.add_separator()\n",
    "\n",
    "# add Exit menu item\n",
    "file_menu.add_command(\n",
    "    label='Exit',\n",
    "    command=root.destroy\n",
    ")\n",
    "\n",
    "# add the File menu to the menubar\n",
    "menubar.add_cascade(\n",
    "    label=\"File\",\n",
    "    menu=file_menu\n",
    ")\n",
    "# create the Help menu\n",
    "help_menu = Menu(\n",
    "    menubar,\n",
    "    tearoff=0\n",
    ")\n",
    "\n",
    "help_menu.add_command(label='Welcome')\n",
    "help_menu.add_command(label='About...')\n",
    "\n",
    "# add the Help menu to the menubar\n",
    "menubar.add_cascade(\n",
    "    label=\"Help\",\n",
    "    menu=help_menu\n",
    ")\n",
    "\n",
    "root.mainloop()"
   ]
  },
  {
   "cell_type": "markdown",
   "id": "494dae5a",
   "metadata": {},
   "source": [
    "Create GUI for loan calculater. With necessory fields."
   ]
  },
  {
   "cell_type": "code",
   "execution_count": 12,
   "id": "fbad3a07",
   "metadata": {},
   "outputs": [],
   "source": [
    "def __init__(self):\n",
    "\t# Create a window\n",
    "\twindow = Tk()\n",
    "\twindow.title(\"Loan Calculator\") # Set title\n",
    "\n",
    "\t# create the input boxes.\n",
    "\tLabel(window, text = \"Annual Interest Rate\").grid(row = 1,\n",
    "\t\t\t\t\t\t\t\t\tcolumn = 1, sticky = W)\n",
    "\tLabel(window, text = \"Number of Years\").grid(row = 2,\n",
    "\t\t\t\t\t\t\t\tcolumn = 1, sticky = W)\n",
    "\tLabel(window, text = \"Loan Amount\").grid(row = 3,\n",
    "\t\t\t\t\t\t\tcolumn = 1, sticky = W)\n",
    "\tLabel(window, text = \"Monthly Payment\").grid(row = 4,\n",
    "\t\t\t\t\t\t\t\tcolumn = 1, sticky = W)\n",
    "\tLabel(window, text = \"Total Payment\").grid(row = 5,\n",
    "\t\t\t\t\t\t\t\tcolumn = 1, sticky = W)\n",
    "\n",
    "\t# for taking inputs\n",
    "\tself.annualInterestRateVar = StringVar()\n",
    "\tEntry(window, textvariable = self.annualInterestRateVar,\n",
    "\t\t\t\tjustify = RIGHT).grid(row = 1, column = 2)\n",
    "\n",
    "\tself.numberOfYearsVar = StringVar()\n",
    "\tEntry(window, textvariable = self.numberOfYearsVar,\n",
    "\t\t\tjustify = RIGHT).grid(row = 2, column = 2)\n",
    "\n",
    "\tself.loanAmountVar = StringVar()\n",
    "\tEntry(window, textvariable = self.loanAmountVar,\n",
    "\t\tjustify = RIGHT).grid(row = 3, column = 2)\n",
    "\n",
    "\tself.monthlyPaymentVar = StringVar()\n",
    "\tlblMonthlyPayment = Label(window, textvariable =\n",
    "\t\t\t\tself.monthlyPaymentVar).grid(row = 4,\n",
    "\t\t\t\tcolumn = 2, sticky = E)\n",
    "\n",
    "\tself.totalPaymentVar = StringVar()\n",
    "\tlblTotalPayment = Label(window, textvariable =\n",
    "\t\t\t\tself.totalPaymentVar).grid(row = 5,\n",
    "\t\t\t\tcolumn = 2, sticky = E)\n",
    "\t\n",
    "\t# create the button\n",
    "\tbtComputePayment = Button(window, text = \"Compute Payment\",\n",
    "\t\t\t\t\t\tcommand = self.computePayment).grid(\n",
    "\t\t\t\t\t\t\trow = 6, column = 2, sticky = E)\n",
    "\t# Create an event loop\n",
    "\twindow.mainloop()\n",
    "\n"
   ]
  },
  {
   "cell_type": "code",
   "execution_count": 13,
   "id": "0ff9a9b6",
   "metadata": {},
   "outputs": [],
   "source": [
    "def computePayment(self):\n",
    "\t# compute the total payment.\n",
    "\tmonthlyPayment = self.getMonthlyPayment(float(self.loanAmountVar.get()),\n",
    "\t\t\t\t\tfloat(self.annualInterestRateVar.get()) / 1200,\n",
    "\t\t\t\t\tint(self.numberOfYearsVar.get()))\n",
    "\n",
    "\tself.monthlyPaymentVar.set(format(monthlyPayment, '10.2f'))\n",
    "\ttotalPayment = float(self.monthlyPaymentVar.get()) * 12 \\\n",
    "\t\t\t\t\t\t* int(self.numberOfYearsVar.get())\n",
    "\tself.totalPaymentVar.set(format(totalPayment, '10.2f'))\n",
    "\n",
    "# compute the monthly payment.\n",
    "def getMonthlyPayment(self, loanAmount, monthlyInterestRate, numberOfYears):\n",
    "\tmonthlyPayment = loanAmount * monthlyInterestRate/(1- 1 / (1 + monthlyInterestRate) **(numberOfYears * 12))\n",
    "\n",
    "\n",
    "\treturn monthlyPayment;\n",
    "\n"
   ]
  },
  {
   "cell_type": "code",
   "execution_count": 14,
   "id": "652de94b",
   "metadata": {},
   "outputs": [
    {
     "data": {
      "text/plain": [
       "<__main__.LoanCalculator at 0x7f8758048910>"
      ]
     },
     "execution_count": 14,
     "metadata": {},
     "output_type": "execute_result"
    }
   ],
   "source": [
    "# Import tkinter\n",
    "from tkinter import *\n",
    "class LoanCalculator:\n",
    "\n",
    "\tdef __init__(self):\n",
    "\n",
    "\t\twindow = Tk() # Create a window\n",
    "\t\twindow.title(\"Loan Calculator\") # Set title\n",
    "\t\t# create the input boxes.\n",
    "\t\tLabel(window, text = \"Annual Interest Rate\").grid(row = 1,\n",
    "\t\t\t\t\t\t\t\t\t\tcolumn = 1, sticky = W)\n",
    "\t\tLabel(window, text = \"Number of Years\").grid(row = 2,\n",
    "\t\t\t\t\t\t\t\t\tcolumn = 1, sticky = W)\n",
    "\t\tLabel(window, text = \"Loan Amount\").grid(row = 3,\n",
    "\t\t\t\t\t\t\t\tcolumn = 1, sticky = W)\n",
    "\t\tLabel(window, text = \"Monthly Payment\").grid(row = 4,\n",
    "\t\t\t\t\t\t\t\t\tcolumn = 1, sticky = W)\n",
    "\t\tLabel(window, text = \"Total Payment\").grid(row = 5,\n",
    "\t\t\t\t\t\t\t\t\tcolumn = 1, sticky = W)\n",
    "\n",
    "\t\t# for taking inputs\n",
    "\t\tself.annualInterestRateVar = StringVar()\n",
    "\t\tEntry(window, textvariable = self.annualInterestRateVar,\n",
    "\t\t\t\t\tjustify = RIGHT).grid(row = 1, column = 2)\n",
    "\t\tself.numberOfYearsVar = StringVar()\n",
    "\n",
    "\t\tEntry(window, textvariable = self.numberOfYearsVar,\n",
    "\t\t\t\tjustify = RIGHT).grid(row = 2, column = 2)\n",
    "\t\tself.loanAmountVar = StringVar()\n",
    "\n",
    "\t\tEntry(window, textvariable = self.loanAmountVar,\n",
    "\t\t\tjustify = RIGHT).grid(row = 3, column = 2)\n",
    "\t\tself.monthlyPaymentVar = StringVar()\n",
    "\t\tlblMonthlyPayment = Label(window, textvariable =\n",
    "\t\t\t\t\t\tself.monthlyPaymentVar).grid(row = 4,\n",
    "\t\t\t\t\t\tcolumn = 2, sticky = E)\n",
    "\n",
    "\t\tself.totalPaymentVar = StringVar()\n",
    "\t\tlblTotalPayment = Label(window, textvariable =\n",
    "\t\t\t\t\tself.totalPaymentVar).grid(row = 5,\n",
    "\t\t\t\t\tcolumn = 2, sticky = E)\n",
    "\t\t\n",
    "\t\t# create the button\n",
    "\t\tbtComputePayment = Button(window, text = \"Compute Payment\",\n",
    "\t\t\t\t\t\t\t\tcommand = self.computePayment).grid(\n",
    "\t\t\t\t\t\t\t\trow = 6, column = 2, sticky = E)\n",
    "\t\twindow.mainloop() # Create an event loop\n",
    "\n",
    "\n",
    "\t# compute the total payment.\n",
    "\tdef computePayment(self):\n",
    "\t\t\t\t\n",
    "\t\tmonthlyPayment = self.getMonthlyPayment(\n",
    "\t\tfloat(self.loanAmountVar.get()),\n",
    "\t\tfloat(self.annualInterestRateVar.get()) / 1200,\n",
    "\t\tint(self.numberOfYearsVar.get()))\n",
    "\n",
    "\t\tself.monthlyPaymentVar.set(format(monthlyPayment, '10.2f'))\n",
    "\t\ttotalPayment = float(self.monthlyPaymentVar.get()) * 12 \\\n",
    "\t\t\t\t\t\t\t\t* int(self.numberOfYearsVar.get())\n",
    "\n",
    "\t\tself.totalPaymentVar.set(format(totalPayment, '10.2f'))\n",
    "\n",
    "\tdef getMonthlyPayment(self, loanAmount, monthlyInterestRate, numberOfYears):\n",
    "\t\t# compute the monthly payment.\n",
    "\t\tmonthlyPayment = loanAmount * monthlyInterestRate / (1\n",
    "\t\t- 1 / (1 + monthlyInterestRate) ** (numberOfYears * 12))\n",
    "\t\treturn monthlyPayment;\n",
    "\t\troot = Tk() # create the widget\n",
    "\n",
    "# call the class to run the program.\n",
    "LoanCalculator()\n",
    "\n"
   ]
  },
  {
   "cell_type": "markdown",
   "id": "6466c2bc",
   "metadata": {},
   "source": [
    "# Assignment on pandas"
   ]
  },
  {
   "cell_type": "code",
   "execution_count": 36,
   "id": "1cb36078",
   "metadata": {},
   "outputs": [],
   "source": [
    "import pandas as pd"
   ]
  },
  {
   "cell_type": "code",
   "execution_count": 37,
   "id": "f76fe025",
   "metadata": {},
   "outputs": [],
   "source": [
    "data=pd.read_csv(\"/Users/battygroup/Desktop/Automobile_data.csv\")"
   ]
  },
  {
   "cell_type": "markdown",
   "id": "a2c52fc6",
   "metadata": {},
   "source": [
    "1) From given data set print first and last five rows"
   ]
  },
  {
   "cell_type": "code",
   "execution_count": 10,
   "id": "bd832fea",
   "metadata": {},
   "outputs": [
    {
     "data": {
      "text/html": [
       "<div>\n",
       "<style scoped>\n",
       "    .dataframe tbody tr th:only-of-type {\n",
       "        vertical-align: middle;\n",
       "    }\n",
       "\n",
       "    .dataframe tbody tr th {\n",
       "        vertical-align: top;\n",
       "    }\n",
       "\n",
       "    .dataframe thead th {\n",
       "        text-align: right;\n",
       "    }\n",
       "</style>\n",
       "<table border=\"1\" class=\"dataframe\">\n",
       "  <thead>\n",
       "    <tr style=\"text-align: right;\">\n",
       "      <th></th>\n",
       "      <th>index</th>\n",
       "      <th>company</th>\n",
       "      <th>body-style</th>\n",
       "      <th>wheel-base</th>\n",
       "      <th>length</th>\n",
       "      <th>engine-type</th>\n",
       "      <th>num-of-cylinders</th>\n",
       "      <th>horsepower</th>\n",
       "      <th>average-mileage</th>\n",
       "      <th>price</th>\n",
       "    </tr>\n",
       "  </thead>\n",
       "  <tbody>\n",
       "    <tr>\n",
       "      <th>0</th>\n",
       "      <td>0</td>\n",
       "      <td>alfa-romero</td>\n",
       "      <td>convertible</td>\n",
       "      <td>88.6</td>\n",
       "      <td>168.8</td>\n",
       "      <td>dohc</td>\n",
       "      <td>four</td>\n",
       "      <td>111</td>\n",
       "      <td>21</td>\n",
       "      <td>13495.0</td>\n",
       "    </tr>\n",
       "    <tr>\n",
       "      <th>1</th>\n",
       "      <td>1</td>\n",
       "      <td>alfa-romero</td>\n",
       "      <td>convertible</td>\n",
       "      <td>88.6</td>\n",
       "      <td>168.8</td>\n",
       "      <td>dohc</td>\n",
       "      <td>four</td>\n",
       "      <td>111</td>\n",
       "      <td>21</td>\n",
       "      <td>16500.0</td>\n",
       "    </tr>\n",
       "    <tr>\n",
       "      <th>2</th>\n",
       "      <td>2</td>\n",
       "      <td>alfa-romero</td>\n",
       "      <td>hatchback</td>\n",
       "      <td>94.5</td>\n",
       "      <td>171.2</td>\n",
       "      <td>ohcv</td>\n",
       "      <td>six</td>\n",
       "      <td>154</td>\n",
       "      <td>19</td>\n",
       "      <td>16500.0</td>\n",
       "    </tr>\n",
       "    <tr>\n",
       "      <th>3</th>\n",
       "      <td>3</td>\n",
       "      <td>audi</td>\n",
       "      <td>sedan</td>\n",
       "      <td>99.8</td>\n",
       "      <td>176.6</td>\n",
       "      <td>ohc</td>\n",
       "      <td>four</td>\n",
       "      <td>102</td>\n",
       "      <td>24</td>\n",
       "      <td>13950.0</td>\n",
       "    </tr>\n",
       "    <tr>\n",
       "      <th>4</th>\n",
       "      <td>4</td>\n",
       "      <td>audi</td>\n",
       "      <td>sedan</td>\n",
       "      <td>99.4</td>\n",
       "      <td>176.6</td>\n",
       "      <td>ohc</td>\n",
       "      <td>five</td>\n",
       "      <td>115</td>\n",
       "      <td>18</td>\n",
       "      <td>17450.0</td>\n",
       "    </tr>\n",
       "  </tbody>\n",
       "</table>\n",
       "</div>"
      ],
      "text/plain": [
       "   index      company   body-style  wheel-base  length engine-type  \\\n",
       "0      0  alfa-romero  convertible        88.6   168.8        dohc   \n",
       "1      1  alfa-romero  convertible        88.6   168.8        dohc   \n",
       "2      2  alfa-romero    hatchback        94.5   171.2        ohcv   \n",
       "3      3         audi        sedan        99.8   176.6         ohc   \n",
       "4      4         audi        sedan        99.4   176.6         ohc   \n",
       "\n",
       "  num-of-cylinders  horsepower  average-mileage    price  \n",
       "0             four         111               21  13495.0  \n",
       "1             four         111               21  16500.0  \n",
       "2              six         154               19  16500.0  \n",
       "3             four         102               24  13950.0  \n",
       "4             five         115               18  17450.0  "
      ]
     },
     "execution_count": 10,
     "metadata": {},
     "output_type": "execute_result"
    }
   ],
   "source": [
    "#TO print the first five row \n",
    "data.head()"
   ]
  },
  {
   "cell_type": "code",
   "execution_count": 11,
   "id": "b2c559e6",
   "metadata": {},
   "outputs": [
    {
     "data": {
      "text/html": [
       "<div>\n",
       "<style scoped>\n",
       "    .dataframe tbody tr th:only-of-type {\n",
       "        vertical-align: middle;\n",
       "    }\n",
       "\n",
       "    .dataframe tbody tr th {\n",
       "        vertical-align: top;\n",
       "    }\n",
       "\n",
       "    .dataframe thead th {\n",
       "        text-align: right;\n",
       "    }\n",
       "</style>\n",
       "<table border=\"1\" class=\"dataframe\">\n",
       "  <thead>\n",
       "    <tr style=\"text-align: right;\">\n",
       "      <th></th>\n",
       "      <th>index</th>\n",
       "      <th>company</th>\n",
       "      <th>body-style</th>\n",
       "      <th>wheel-base</th>\n",
       "      <th>length</th>\n",
       "      <th>engine-type</th>\n",
       "      <th>num-of-cylinders</th>\n",
       "      <th>horsepower</th>\n",
       "      <th>average-mileage</th>\n",
       "      <th>price</th>\n",
       "    </tr>\n",
       "  </thead>\n",
       "  <tbody>\n",
       "    <tr>\n",
       "      <th>56</th>\n",
       "      <td>81</td>\n",
       "      <td>volkswagen</td>\n",
       "      <td>sedan</td>\n",
       "      <td>97.3</td>\n",
       "      <td>171.7</td>\n",
       "      <td>ohc</td>\n",
       "      <td>four</td>\n",
       "      <td>85</td>\n",
       "      <td>27</td>\n",
       "      <td>7975.0</td>\n",
       "    </tr>\n",
       "    <tr>\n",
       "      <th>57</th>\n",
       "      <td>82</td>\n",
       "      <td>volkswagen</td>\n",
       "      <td>sedan</td>\n",
       "      <td>97.3</td>\n",
       "      <td>171.7</td>\n",
       "      <td>ohc</td>\n",
       "      <td>four</td>\n",
       "      <td>52</td>\n",
       "      <td>37</td>\n",
       "      <td>7995.0</td>\n",
       "    </tr>\n",
       "    <tr>\n",
       "      <th>58</th>\n",
       "      <td>86</td>\n",
       "      <td>volkswagen</td>\n",
       "      <td>sedan</td>\n",
       "      <td>97.3</td>\n",
       "      <td>171.7</td>\n",
       "      <td>ohc</td>\n",
       "      <td>four</td>\n",
       "      <td>100</td>\n",
       "      <td>26</td>\n",
       "      <td>9995.0</td>\n",
       "    </tr>\n",
       "    <tr>\n",
       "      <th>59</th>\n",
       "      <td>87</td>\n",
       "      <td>volvo</td>\n",
       "      <td>sedan</td>\n",
       "      <td>104.3</td>\n",
       "      <td>188.8</td>\n",
       "      <td>ohc</td>\n",
       "      <td>four</td>\n",
       "      <td>114</td>\n",
       "      <td>23</td>\n",
       "      <td>12940.0</td>\n",
       "    </tr>\n",
       "    <tr>\n",
       "      <th>60</th>\n",
       "      <td>88</td>\n",
       "      <td>volvo</td>\n",
       "      <td>wagon</td>\n",
       "      <td>104.3</td>\n",
       "      <td>188.8</td>\n",
       "      <td>ohc</td>\n",
       "      <td>four</td>\n",
       "      <td>114</td>\n",
       "      <td>23</td>\n",
       "      <td>13415.0</td>\n",
       "    </tr>\n",
       "  </tbody>\n",
       "</table>\n",
       "</div>"
      ],
      "text/plain": [
       "    index     company body-style  wheel-base  length engine-type  \\\n",
       "56     81  volkswagen      sedan        97.3   171.7         ohc   \n",
       "57     82  volkswagen      sedan        97.3   171.7         ohc   \n",
       "58     86  volkswagen      sedan        97.3   171.7         ohc   \n",
       "59     87       volvo      sedan       104.3   188.8         ohc   \n",
       "60     88       volvo      wagon       104.3   188.8         ohc   \n",
       "\n",
       "   num-of-cylinders  horsepower  average-mileage    price  \n",
       "56             four          85               27   7975.0  \n",
       "57             four          52               37   7995.0  \n",
       "58             four         100               26   9995.0  \n",
       "59             four         114               23  12940.0  \n",
       "60             four         114               23  13415.0  "
      ]
     },
     "execution_count": 11,
     "metadata": {},
     "output_type": "execute_result"
    }
   ],
   "source": [
    "#TO print the last five row \n",
    "data.tail()"
   ]
  },
  {
   "cell_type": "code",
   "execution_count": 38,
   "id": "cc239d9e",
   "metadata": {},
   "outputs": [
    {
     "data": {
      "text/html": [
       "<div>\n",
       "<style scoped>\n",
       "    .dataframe tbody tr th:only-of-type {\n",
       "        vertical-align: middle;\n",
       "    }\n",
       "\n",
       "    .dataframe tbody tr th {\n",
       "        vertical-align: top;\n",
       "    }\n",
       "\n",
       "    .dataframe thead th {\n",
       "        text-align: right;\n",
       "    }\n",
       "</style>\n",
       "<table border=\"1\" class=\"dataframe\">\n",
       "  <thead>\n",
       "    <tr style=\"text-align: right;\">\n",
       "      <th></th>\n",
       "      <th>index</th>\n",
       "      <th>company</th>\n",
       "      <th>body-style</th>\n",
       "      <th>wheel-base</th>\n",
       "      <th>length</th>\n",
       "      <th>engine-type</th>\n",
       "      <th>num-of-cylinders</th>\n",
       "      <th>horsepower</th>\n",
       "      <th>average-mileage</th>\n",
       "      <th>price</th>\n",
       "    </tr>\n",
       "  </thead>\n",
       "  <tbody>\n",
       "    <tr>\n",
       "      <th>48</th>\n",
       "      <td>66</td>\n",
       "      <td>toyota</td>\n",
       "      <td>hatchback</td>\n",
       "      <td>95.7</td>\n",
       "      <td>158.7</td>\n",
       "      <td>ohc</td>\n",
       "      <td>four</td>\n",
       "      <td>62</td>\n",
       "      <td>35</td>\n",
       "      <td>5348.0</td>\n",
       "    </tr>\n",
       "    <tr>\n",
       "      <th>49</th>\n",
       "      <td>67</td>\n",
       "      <td>toyota</td>\n",
       "      <td>hatchback</td>\n",
       "      <td>95.7</td>\n",
       "      <td>158.7</td>\n",
       "      <td>ohc</td>\n",
       "      <td>four</td>\n",
       "      <td>62</td>\n",
       "      <td>31</td>\n",
       "      <td>6338.0</td>\n",
       "    </tr>\n",
       "    <tr>\n",
       "      <th>50</th>\n",
       "      <td>68</td>\n",
       "      <td>toyota</td>\n",
       "      <td>hatchback</td>\n",
       "      <td>95.7</td>\n",
       "      <td>158.7</td>\n",
       "      <td>ohc</td>\n",
       "      <td>four</td>\n",
       "      <td>62</td>\n",
       "      <td>31</td>\n",
       "      <td>6488.0</td>\n",
       "    </tr>\n",
       "    <tr>\n",
       "      <th>51</th>\n",
       "      <td>69</td>\n",
       "      <td>toyota</td>\n",
       "      <td>wagon</td>\n",
       "      <td>95.7</td>\n",
       "      <td>169.7</td>\n",
       "      <td>ohc</td>\n",
       "      <td>four</td>\n",
       "      <td>62</td>\n",
       "      <td>31</td>\n",
       "      <td>6918.0</td>\n",
       "    </tr>\n",
       "    <tr>\n",
       "      <th>52</th>\n",
       "      <td>70</td>\n",
       "      <td>toyota</td>\n",
       "      <td>wagon</td>\n",
       "      <td>95.7</td>\n",
       "      <td>169.7</td>\n",
       "      <td>ohc</td>\n",
       "      <td>four</td>\n",
       "      <td>62</td>\n",
       "      <td>27</td>\n",
       "      <td>7898.0</td>\n",
       "    </tr>\n",
       "    <tr>\n",
       "      <th>53</th>\n",
       "      <td>71</td>\n",
       "      <td>toyota</td>\n",
       "      <td>wagon</td>\n",
       "      <td>95.7</td>\n",
       "      <td>169.7</td>\n",
       "      <td>ohc</td>\n",
       "      <td>four</td>\n",
       "      <td>62</td>\n",
       "      <td>27</td>\n",
       "      <td>8778.0</td>\n",
       "    </tr>\n",
       "    <tr>\n",
       "      <th>54</th>\n",
       "      <td>79</td>\n",
       "      <td>toyota</td>\n",
       "      <td>wagon</td>\n",
       "      <td>104.5</td>\n",
       "      <td>187.8</td>\n",
       "      <td>dohc</td>\n",
       "      <td>six</td>\n",
       "      <td>156</td>\n",
       "      <td>19</td>\n",
       "      <td>15750.0</td>\n",
       "    </tr>\n",
       "  </tbody>\n",
       "</table>\n",
       "</div>"
      ],
      "text/plain": [
       "    index company body-style  wheel-base  length engine-type num-of-cylinders  \\\n",
       "48     66  toyota  hatchback        95.7   158.7         ohc             four   \n",
       "49     67  toyota  hatchback        95.7   158.7         ohc             four   \n",
       "50     68  toyota  hatchback        95.7   158.7         ohc             four   \n",
       "51     69  toyota      wagon        95.7   169.7         ohc             four   \n",
       "52     70  toyota      wagon        95.7   169.7         ohc             four   \n",
       "53     71  toyota      wagon        95.7   169.7         ohc             four   \n",
       "54     79  toyota      wagon       104.5   187.8        dohc              six   \n",
       "\n",
       "    horsepower  average-mileage    price  \n",
       "48          62               35   5348.0  \n",
       "49          62               31   6338.0  \n",
       "50          62               31   6488.0  \n",
       "51          62               31   6918.0  \n",
       "52          62               27   7898.0  \n",
       "53          62               27   8778.0  \n",
       "54         156               19  15750.0  "
      ]
     },
     "execution_count": 38,
     "metadata": {},
     "output_type": "execute_result"
    }
   ],
   "source": [
    "# Print All Toyota Cars details (hint: use groupby function)\n",
    "car_type = data.groupby('company')\n",
    "toyotadata = car_type.get_group('toyota')\n",
    "toyotadata"
   ]
  },
  {
   "cell_type": "code",
   "execution_count": 31,
   "id": "8f70505e",
   "metadata": {},
   "outputs": [
    {
     "data": {
      "text/plain": [
       "mercedes-benz    1\n",
       "Name: company, dtype: int64"
      ]
     },
     "execution_count": 31,
     "metadata": {},
     "output_type": "execute_result"
    }
   ],
   "source": [
    "#Count total cars per company (by using value_counts function)\n",
    "\n",
    "data[\"company\"].value_counts()"
   ]
  },
  {
   "cell_type": "code",
   "execution_count": 20,
   "id": "b63c7334",
   "metadata": {},
   "outputs": [
    {
     "data": {
      "text/html": [
       "<div>\n",
       "<style scoped>\n",
       "    .dataframe tbody tr th:only-of-type {\n",
       "        vertical-align: middle;\n",
       "    }\n",
       "\n",
       "    .dataframe tbody tr th {\n",
       "        vertical-align: top;\n",
       "    }\n",
       "\n",
       "    .dataframe thead th {\n",
       "        text-align: right;\n",
       "    }\n",
       "</style>\n",
       "<table border=\"1\" class=\"dataframe\">\n",
       "  <thead>\n",
       "    <tr style=\"text-align: right;\">\n",
       "      <th></th>\n",
       "      <th>company</th>\n",
       "      <th>price</th>\n",
       "    </tr>\n",
       "  </thead>\n",
       "  <tbody>\n",
       "    <tr>\n",
       "      <th>35</th>\n",
       "      <td>mercedes-benz</td>\n",
       "      <td>45400.0</td>\n",
       "    </tr>\n",
       "  </tbody>\n",
       "</table>\n",
       "</div>"
      ],
      "text/plain": [
       "          company    price\n",
       "35  mercedes-benz  45400.0"
      ]
     },
     "execution_count": 20,
     "metadata": {},
     "output_type": "execute_result"
    }
   ],
   "source": [
    "#Find each company’s Higesht price car. (hint: Groupby function and then apply .max function)\n",
    "\n",
    "\n",
    "data = data [['company','price']][data.price==data['price'].max()]\n",
    "data"
   ]
  },
  {
   "cell_type": "code",
   "execution_count": 39,
   "id": "b38093bf",
   "metadata": {},
   "outputs": [
    {
     "data": {
      "text/html": [
       "<div>\n",
       "<style scoped>\n",
       "    .dataframe tbody tr th:only-of-type {\n",
       "        vertical-align: middle;\n",
       "    }\n",
       "\n",
       "    .dataframe tbody tr th {\n",
       "        vertical-align: top;\n",
       "    }\n",
       "\n",
       "    .dataframe thead th {\n",
       "        text-align: right;\n",
       "    }\n",
       "</style>\n",
       "<table border=\"1\" class=\"dataframe\">\n",
       "  <thead>\n",
       "    <tr style=\"text-align: right;\">\n",
       "      <th></th>\n",
       "      <th>average-mileage</th>\n",
       "    </tr>\n",
       "    <tr>\n",
       "      <th>company</th>\n",
       "      <th></th>\n",
       "    </tr>\n",
       "  </thead>\n",
       "  <tbody>\n",
       "    <tr>\n",
       "      <th>alfa-romero</th>\n",
       "      <td>20.333333</td>\n",
       "    </tr>\n",
       "    <tr>\n",
       "      <th>audi</th>\n",
       "      <td>20.000000</td>\n",
       "    </tr>\n",
       "    <tr>\n",
       "      <th>bmw</th>\n",
       "      <td>19.000000</td>\n",
       "    </tr>\n",
       "    <tr>\n",
       "      <th>chevrolet</th>\n",
       "      <td>41.000000</td>\n",
       "    </tr>\n",
       "    <tr>\n",
       "      <th>dodge</th>\n",
       "      <td>31.000000</td>\n",
       "    </tr>\n",
       "    <tr>\n",
       "      <th>honda</th>\n",
       "      <td>26.333333</td>\n",
       "    </tr>\n",
       "    <tr>\n",
       "      <th>isuzu</th>\n",
       "      <td>33.333333</td>\n",
       "    </tr>\n",
       "    <tr>\n",
       "      <th>jaguar</th>\n",
       "      <td>14.333333</td>\n",
       "    </tr>\n",
       "    <tr>\n",
       "      <th>mazda</th>\n",
       "      <td>28.000000</td>\n",
       "    </tr>\n",
       "    <tr>\n",
       "      <th>mercedes-benz</th>\n",
       "      <td>18.000000</td>\n",
       "    </tr>\n",
       "    <tr>\n",
       "      <th>mitsubishi</th>\n",
       "      <td>29.500000</td>\n",
       "    </tr>\n",
       "    <tr>\n",
       "      <th>nissan</th>\n",
       "      <td>31.400000</td>\n",
       "    </tr>\n",
       "    <tr>\n",
       "      <th>porsche</th>\n",
       "      <td>17.000000</td>\n",
       "    </tr>\n",
       "    <tr>\n",
       "      <th>toyota</th>\n",
       "      <td>28.714286</td>\n",
       "    </tr>\n",
       "    <tr>\n",
       "      <th>volkswagen</th>\n",
       "      <td>31.750000</td>\n",
       "    </tr>\n",
       "    <tr>\n",
       "      <th>volvo</th>\n",
       "      <td>23.000000</td>\n",
       "    </tr>\n",
       "  </tbody>\n",
       "</table>\n",
       "</div>"
      ],
      "text/plain": [
       "               average-mileage\n",
       "company                       \n",
       "alfa-romero          20.333333\n",
       "audi                 20.000000\n",
       "bmw                  19.000000\n",
       "chevrolet            41.000000\n",
       "dodge                31.000000\n",
       "honda                26.333333\n",
       "isuzu                33.333333\n",
       "jaguar               14.333333\n",
       "mazda                28.000000\n",
       "mercedes-benz        18.000000\n",
       "mitsubishi           29.500000\n",
       "nissan               31.400000\n",
       "porsche              17.000000\n",
       "toyota               28.714286\n",
       "volkswagen           31.750000\n",
       "volvo                23.000000"
      ]
     },
     "execution_count": 39,
     "metadata": {},
     "output_type": "execute_result"
    }
   ],
   "source": [
    "#Find the average mileage of each car making company (hint: Groupby function and then apply .mean function)\n",
    "mileage=data.groupby('company')[['company','average-mileage']].mean()\n",
    "mileage"
   ]
  },
  {
   "cell_type": "code",
   "execution_count": 44,
   "id": "a38ac223",
   "metadata": {},
   "outputs": [
    {
     "name": "stderr",
     "output_type": "stream",
     "text": [
      "<ipython-input-44-959b8f61a2d3>:4: FutureWarning: Indexing with multiple keys (implicitly converted to a tuple of keys) will be deprecated, use a list instead.\n",
      "  data.groupby('company')['company','price'].max()\n"
     ]
    },
    {
     "data": {
      "text/html": [
       "<div>\n",
       "<style scoped>\n",
       "    .dataframe tbody tr th:only-of-type {\n",
       "        vertical-align: middle;\n",
       "    }\n",
       "\n",
       "    .dataframe tbody tr th {\n",
       "        vertical-align: top;\n",
       "    }\n",
       "\n",
       "    .dataframe thead th {\n",
       "        text-align: right;\n",
       "    }\n",
       "</style>\n",
       "<table border=\"1\" class=\"dataframe\">\n",
       "  <thead>\n",
       "    <tr style=\"text-align: right;\">\n",
       "      <th></th>\n",
       "      <th>company</th>\n",
       "      <th>price</th>\n",
       "    </tr>\n",
       "    <tr>\n",
       "      <th>company</th>\n",
       "      <th></th>\n",
       "      <th></th>\n",
       "    </tr>\n",
       "  </thead>\n",
       "  <tbody>\n",
       "    <tr>\n",
       "      <th>alfa-romero</th>\n",
       "      <td>alfa-romero</td>\n",
       "      <td>16500.0</td>\n",
       "    </tr>\n",
       "    <tr>\n",
       "      <th>audi</th>\n",
       "      <td>audi</td>\n",
       "      <td>18920.0</td>\n",
       "    </tr>\n",
       "    <tr>\n",
       "      <th>bmw</th>\n",
       "      <td>bmw</td>\n",
       "      <td>41315.0</td>\n",
       "    </tr>\n",
       "    <tr>\n",
       "      <th>chevrolet</th>\n",
       "      <td>chevrolet</td>\n",
       "      <td>6575.0</td>\n",
       "    </tr>\n",
       "    <tr>\n",
       "      <th>dodge</th>\n",
       "      <td>dodge</td>\n",
       "      <td>6377.0</td>\n",
       "    </tr>\n",
       "    <tr>\n",
       "      <th>honda</th>\n",
       "      <td>honda</td>\n",
       "      <td>12945.0</td>\n",
       "    </tr>\n",
       "    <tr>\n",
       "      <th>isuzu</th>\n",
       "      <td>isuzu</td>\n",
       "      <td>6785.0</td>\n",
       "    </tr>\n",
       "    <tr>\n",
       "      <th>jaguar</th>\n",
       "      <td>jaguar</td>\n",
       "      <td>36000.0</td>\n",
       "    </tr>\n",
       "    <tr>\n",
       "      <th>mazda</th>\n",
       "      <td>mazda</td>\n",
       "      <td>18344.0</td>\n",
       "    </tr>\n",
       "    <tr>\n",
       "      <th>mercedes-benz</th>\n",
       "      <td>mercedes-benz</td>\n",
       "      <td>45400.0</td>\n",
       "    </tr>\n",
       "    <tr>\n",
       "      <th>mitsubishi</th>\n",
       "      <td>mitsubishi</td>\n",
       "      <td>8189.0</td>\n",
       "    </tr>\n",
       "    <tr>\n",
       "      <th>nissan</th>\n",
       "      <td>nissan</td>\n",
       "      <td>13499.0</td>\n",
       "    </tr>\n",
       "    <tr>\n",
       "      <th>porsche</th>\n",
       "      <td>porsche</td>\n",
       "      <td>37028.0</td>\n",
       "    </tr>\n",
       "    <tr>\n",
       "      <th>toyota</th>\n",
       "      <td>toyota</td>\n",
       "      <td>15750.0</td>\n",
       "    </tr>\n",
       "    <tr>\n",
       "      <th>volkswagen</th>\n",
       "      <td>volkswagen</td>\n",
       "      <td>9995.0</td>\n",
       "    </tr>\n",
       "    <tr>\n",
       "      <th>volvo</th>\n",
       "      <td>volvo</td>\n",
       "      <td>13415.0</td>\n",
       "    </tr>\n",
       "  </tbody>\n",
       "</table>\n",
       "</div>"
      ],
      "text/plain": [
       "                     company    price\n",
       "company                              \n",
       "alfa-romero      alfa-romero  16500.0\n",
       "audi                    audi  18920.0\n",
       "bmw                      bmw  41315.0\n",
       "chevrolet          chevrolet   6575.0\n",
       "dodge                  dodge   6377.0\n",
       "honda                  honda  12945.0\n",
       "isuzu                  isuzu   6785.0\n",
       "jaguar                jaguar  36000.0\n",
       "mazda                  mazda  18344.0\n",
       "mercedes-benz  mercedes-benz  45400.0\n",
       "mitsubishi        mitsubishi   8189.0\n",
       "nissan                nissan  13499.0\n",
       "porsche              porsche  37028.0\n",
       "toyota                toyota  15750.0\n",
       "volkswagen        volkswagen   9995.0\n",
       "volvo                  volvo  13415.0"
      ]
     },
     "execution_count": 44,
     "metadata": {},
     "output_type": "execute_result"
    }
   ],
   "source": [
    "#6) Sort all cars by Price column (hint: using sort_values function).\n",
    "\n",
    "\n",
    "data.groupby('company')['company','price'].max()"
   ]
  },
  {
   "cell_type": "code",
   "execution_count": 45,
   "id": "9151d62e",
   "metadata": {},
   "outputs": [
    {
     "data": {
      "text/plain": [
       "index               0\n",
       "company             0\n",
       "body-style          0\n",
       "wheel-base          0\n",
       "length              0\n",
       "engine-type         0\n",
       "num-of-cylinders    0\n",
       "horsepower          0\n",
       "average-mileage     0\n",
       "price               3\n",
       "dtype: int64"
      ]
     },
     "execution_count": 45,
     "metadata": {},
     "output_type": "execute_result"
    }
   ],
   "source": [
    "#Check for the null values for entire dataset.\n",
    "data.isnull().sum()"
   ]
  },
  {
   "cell_type": "code",
   "execution_count": null,
   "id": "2fa41fa7",
   "metadata": {},
   "outputs": [],
   "source": []
  },
  {
   "cell_type": "code",
   "execution_count": null,
   "id": "42b064bc",
   "metadata": {},
   "outputs": [],
   "source": []
  },
  {
   "cell_type": "markdown",
   "id": "95d2ce87",
   "metadata": {},
   "source": [
    "# Assignment on Numpy"
   ]
  },
  {
   "cell_type": "markdown",
   "id": "3e1abd2c",
   "metadata": {},
   "source": [
    "1) Create a 4X2 integer array and Prints its attributes\n",
    "     Attributes like:\n",
    "a)\tThe shape of an array.\n",
    "b)\tArray dimensions.\n",
    "c)\tThe Length of each element of the array in bytes.\n"
   ]
  },
  {
   "cell_type": "code",
   "execution_count": null,
   "id": "44252eba",
   "metadata": {},
   "outputs": [],
   "source": [
    "import numpy"
   ]
  },
  {
   "cell_type": "code",
   "execution_count": null,
   "id": "e17ca7f3",
   "metadata": {},
   "outputs": [],
   "source": [
    "firstArray = numpy.empty([4,2], dtype = numpy.uint16) \n",
    "print(\"Printing Array\")\n",
    "print(firstArray)\n",
    "\n",
    "print(\"Printing numpy array Attributes\")\n",
    "print(\"1> Array Shape is: \", firstArray.shape)\n",
    "print(\"2>. Array dimensions are \", firstArray.ndim)\n",
    "print(\"3>. Length of each element of array in bytes is \", firstArray.itemsize)"
   ]
  },
  {
   "cell_type": "markdown",
   "id": "089d87e8",
   "metadata": {},
   "source": [
    "Create a 5X2 integer array from a range between 100 to 200 such that the difference between each element is 10"
   ]
  },
  {
   "cell_type": "code",
   "execution_count": null,
   "id": "bf43603f",
   "metadata": {},
   "outputs": [],
   "source": [
    "import numpy\n",
    "\n",
    "print(\"Creating 5X2 array using numpy.arange\")\n",
    "sampleArray = numpy.arange(100, 200, 10)\n",
    "sampleArray = sampleArray.reshape(5,2)\n",
    "print (sampleArray)"
   ]
  },
  {
   "cell_type": "markdown",
   "id": "da3f57c3",
   "metadata": {},
   "source": [
    "3) Add the following two NumPy arrays\n",
    "import numpy\n",
    "\n",
    "arrayOne = numpy.array([[5, 6, 9], [21 ,18, 27]])\n",
    "arrayTwo = numpy.array([[15 ,33, 24], [4 ,7, 1]])\n"
   ]
  },
  {
   "cell_type": "code",
   "execution_count": null,
   "id": "5e28aedb",
   "metadata": {},
   "outputs": [],
   "source": [
    "import numpy\n",
    "\n",
    "arrayOne = numpy.array([[5, 6, 9], [21 ,18, 27]])\n",
    "arrayTwo = numpy.array([[15 ,33, 24], [4 ,7, 1]])\n",
    "\n",
    "resultArray  = arrayOne + arrayTwo\n",
    "print(\"addition of two arrays is \\n\")\n",
    "print(resultArray)"
   ]
  },
  {
   "cell_type": "markdown",
   "id": "917a18df",
   "metadata": {},
   "source": [
    "4) Create an 8X3 integer array from a range between 10 to 34 such that the difference between each element is 1 and then Split the array into four equal-sized sub-arrays.\n",
    "Expected Output:\n",
    "Creating 8X3 array using numpy.arange\n",
    "[[10 11 12]\n",
    " [13 14 15]\n",
    " [16 17 18]\n",
    " [19 20 21]\n",
    " [22 23 24]\n",
    " [25 26 27]\n",
    " [28 29 30]\n",
    " [31 32 33]]\n",
    "\n",
    "Dividing 8X3 array into 4 sub array\n",
    "\n",
    "[array([[10, 11, 12],[13, 14, 15]]), \n",
    "array([[16, 17, 18],[19, 20, 21]]), \n",
    "array([[22, 23, 24],[25, 26, 27]]), \n",
    "array([[28, 29, 30],[31, 32, 33]])]\n"
   ]
  },
  {
   "cell_type": "code",
   "execution_count": null,
   "id": "ea8c652a",
   "metadata": {},
   "outputs": [],
   "source": [
    "import numpy\n",
    "\n",
    "print(\"Creating 8X3 array using numpy.arange\")\n",
    "sampleArray = numpy.arange(10, 34, 1)\n",
    "sampleArray = sampleArray.reshape(8,3)\n",
    "print (sampleArray)\n",
    "\n",
    "print(\"\\nDividing 8X3 array into 4 sub array\\n\")\n",
    "subArrays = numpy.split(sampleArray, 4) \n",
    "print(subArrays)"
   ]
  },
  {
   "cell_type": "markdown",
   "id": "bc4f40aa",
   "metadata": {},
   "source": [
    "5) Write a NumPy program to generate six random integers between 10 and 30. \n",
    "Expected Output:\n",
    "[20 28 27 17 28 29]\n"
   ]
  },
  {
   "cell_type": "code",
   "execution_count": null,
   "id": "b19caa63",
   "metadata": {},
   "outputs": [],
   "source": [
    "import numpy as np\n",
    "a = np.random.randint(low=10, high=30, size=6)\n",
    "print(a)"
   ]
  },
  {
   "cell_type": "markdown",
   "id": "73b9fb17",
   "metadata": {},
   "source": [
    "6) Write a NumPy program to generate five random numbers from the normal distribution. \n",
    "Expected Output:\n",
    "[-0.43262625 -1.10836787 1.80791413 0.69287463 -0.53742101]\n",
    "\n"
   ]
  },
  {
   "cell_type": "code",
   "execution_count": null,
   "id": "1db515e8",
   "metadata": {},
   "outputs": [],
   "source": [
    "import numpy as np\n",
    "b = np.random.normal(size=5)\n",
    "print(b)"
   ]
  },
  {
   "cell_type": "markdown",
   "id": "33994b58",
   "metadata": {},
   "source": [
    "7) Write a NumPy program to create a 3x3x3 array with random values."
   ]
  },
  {
   "cell_type": "code",
   "execution_count": null,
   "id": "ab519091",
   "metadata": {},
   "outputs": [],
   "source": [
    "import numpy as np\n",
    "x = np.random.random((3,3,3))\n",
    "print(x)"
   ]
  },
  {
   "cell_type": "markdown",
   "id": "0b854abd",
   "metadata": {},
   "source": [
    "8) Write a NumPy program to normalize a 3x3 random matrix."
   ]
  },
  {
   "cell_type": "code",
   "execution_count": null,
   "id": "5b34a1c4",
   "metadata": {},
   "outputs": [],
   "source": [
    "import numpy as np\n",
    "x= np.random.random((3,3))\n",
    "print(\"Original Array:\")\n",
    "print(x)\n",
    "xmax, xmin = x.max(), x.min()\n",
    "x = (x - xmin)/(xmax - xmin)\n",
    "print(\"After normalization:\")\n",
    "print(x)"
   ]
  },
  {
   "cell_type": "markdown",
   "id": "64aa96a3",
   "metadata": {},
   "source": [
    "9) Write a NumPy program to shuffle numbers between 0 and 10 (inclusive)."
   ]
  },
  {
   "cell_type": "code",
   "execution_count": null,
   "id": "573dff47",
   "metadata": {},
   "outputs": [],
   "source": [
    "import numpy as np\n",
    "x = np.arange(10)\n",
    "np.random.shuffle(x)\n",
    "print(x)\n",
    "print(\"Same result using permutation():\")\n",
    "print(np.random.permutation(10))"
   ]
  },
  {
   "cell_type": "markdown",
   "id": "889f64f3",
   "metadata": {},
   "source": [
    "10) Write a NumPy program to create a 5x5 array with random values and find the minimum and maximum values"
   ]
  },
  {
   "cell_type": "code",
   "execution_count": null,
   "id": "abef8d24",
   "metadata": {},
   "outputs": [],
   "source": [
    "import numpy as np\n",
    "x = np.random.random((5,5))\n",
    "print(\"Original Array:\")\n",
    "print(x) \n",
    "xmin, xmax = x.min(), x.max()\n",
    "print(\"Minimum and Maximum Values:\")\n",
    "print(xmin, xmax)"
   ]
  },
  {
   "cell_type": "code",
   "execution_count": null,
   "id": "6d39e680",
   "metadata": {},
   "outputs": [],
   "source": []
  }
 ],
 "metadata": {
  "kernelspec": {
   "display_name": "Python 3",
   "language": "python",
   "name": "python3"
  },
  "language_info": {
   "codemirror_mode": {
    "name": "ipython",
    "version": 3
   },
   "file_extension": ".py",
   "mimetype": "text/x-python",
   "name": "python",
   "nbconvert_exporter": "python",
   "pygments_lexer": "ipython3",
   "version": "3.8.8"
  }
 },
 "nbformat": 4,
 "nbformat_minor": 5
}
